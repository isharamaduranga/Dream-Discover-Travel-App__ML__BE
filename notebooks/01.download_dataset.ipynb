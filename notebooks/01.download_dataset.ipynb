{
 "cells": [
  {
   "cell_type": "code",
   "execution_count": 1,
   "id": "initial_id",
   "metadata": {
    "ExecuteTime": {
     "end_time": "2024-12-22T07:15:01.019182Z",
     "start_time": "2024-12-22T07:15:00.906955Z"
    }
   },
   "outputs": [],
   "source": [
    "import numpy as np"
   ]
  },
  {
   "cell_type": "code",
   "execution_count": 1,
   "id": "a0251874-409a-4911-90bb-b1cd5daeeb31",
   "metadata": {},
   "outputs": [],
   "source": [
    "import json\n",
    "with open('../artifacts/kaggle.json','r') as file:\n",
    "    data = json.load(file)"
   ]
  },
  {
   "cell_type": "code",
   "execution_count": 2,
   "id": "aaf858d2-6d0d-4eed-8f13-3cd7753aeebe",
   "metadata": {},
   "outputs": [
    {
     "data": {
      "text/plain": [
       "{'username': 'maduranga97', 'key': '5b69eaf80c7e8548e39af67dac61cb00'}"
      ]
     },
     "execution_count": 2,
     "metadata": {},
     "output_type": "execute_result"
    }
   ],
   "source": [
    "data"
   ]
  },
  {
   "cell_type": "code",
   "id": "f06a427b-c790-41e5-9928-7f78583ae625",
   "metadata": {
    "ExecuteTime": {
     "end_time": "2024-12-22T07:43:38.316629Z",
     "start_time": "2024-12-22T07:43:36.657044Z"
    }
   },
   "source": [
    "!pip install kaggle"
   ],
   "outputs": [
    {
     "name": "stdout",
     "output_type": "stream",
     "text": [
      "Requirement already satisfied: kaggle in d:\\movies\\yb_ml_help\\sentiment_analysis_project\\env\\lib\\site-packages (1.6.17)\n",
      "Requirement already satisfied: six>=1.10 in d:\\movies\\yb_ml_help\\sentiment_analysis_project\\env\\lib\\site-packages (from kaggle) (1.17.0)\n",
      "Requirement already satisfied: certifi>=2023.7.22 in d:\\movies\\yb_ml_help\\sentiment_analysis_project\\env\\lib\\site-packages (from kaggle) (2024.12.14)\n",
      "Requirement already satisfied: python-dateutil in d:\\movies\\yb_ml_help\\sentiment_analysis_project\\env\\lib\\site-packages (from kaggle) (2.9.0.post0)\n",
      "Requirement already satisfied: requests in d:\\movies\\yb_ml_help\\sentiment_analysis_project\\env\\lib\\site-packages (from kaggle) (2.32.3)\n",
      "Requirement already satisfied: tqdm in d:\\movies\\yb_ml_help\\sentiment_analysis_project\\env\\lib\\site-packages (from kaggle) (4.67.1)\n",
      "Requirement already satisfied: python-slugify in d:\\movies\\yb_ml_help\\sentiment_analysis_project\\env\\lib\\site-packages (from kaggle) (8.0.4)\n",
      "Requirement already satisfied: urllib3 in d:\\movies\\yb_ml_help\\sentiment_analysis_project\\env\\lib\\site-packages (from kaggle) (2.2.3)\n",
      "Requirement already satisfied: bleach in d:\\movies\\yb_ml_help\\sentiment_analysis_project\\env\\lib\\site-packages (from kaggle) (6.2.0)\n",
      "Requirement already satisfied: webencodings in d:\\movies\\yb_ml_help\\sentiment_analysis_project\\env\\lib\\site-packages (from bleach->kaggle) (0.5.1)\n",
      "Requirement already satisfied: text-unidecode>=1.3 in d:\\movies\\yb_ml_help\\sentiment_analysis_project\\env\\lib\\site-packages (from python-slugify->kaggle) (1.3)\n",
      "Requirement already satisfied: charset-normalizer<4,>=2 in d:\\movies\\yb_ml_help\\sentiment_analysis_project\\env\\lib\\site-packages (from requests->kaggle) (3.4.0)\n",
      "Requirement already satisfied: idna<4,>=2.5 in d:\\movies\\yb_ml_help\\sentiment_analysis_project\\env\\lib\\site-packages (from requests->kaggle) (3.10)\n",
      "Requirement already satisfied: colorama in d:\\movies\\yb_ml_help\\sentiment_analysis_project\\env\\lib\\site-packages (from tqdm->kaggle) (0.4.6)\n"
     ]
    }
   ],
   "execution_count": 3
  },
  {
   "cell_type": "code",
   "execution_count": 5,
   "id": "fcf4e172-c401-4a4c-8176-c11a25f2e209",
   "metadata": {},
   "outputs": [],
   "source": [
    "import os\n",
    "os.environ['KAGGLE_USERNAME']=data['username']\n",
    "os.environ['KAGGLE_KEY']=data['key']"
   ]
  },
  {
   "cell_type": "code",
   "execution_count": 6,
   "id": "cf3882e5-ccd9-44d2-a7e7-0c0940a27d0b",
   "metadata": {},
   "outputs": [],
   "source": [
    "from kaggle.api.kaggle_api_extended import KaggleApi\n",
    "api = KaggleApi()\n",
    "api.authenticate()"
   ]
  },
  {
   "cell_type": "code",
   "execution_count": 8,
   "id": "8207d866-f8ab-4f56-b6c2-fb4627f3b7fa",
   "metadata": {},
   "outputs": [
    {
     "name": "stdout",
     "output_type": "stream",
     "text": [
      "Dataset URL: https://www.kaggle.com/datasets/dineshpiyasamara/sentiment-analysis-dataset\n"
     ]
    }
   ],
   "source": [
    "api.dataset_download_files('dineshpiyasamara/sentiment-analysis-dataset','../artifacts/')"
   ]
  },
  {
   "cell_type": "code",
   "id": "f0d07118-4052-40d2-b049-ed8a9a175562",
   "metadata": {
    "ExecuteTime": {
     "end_time": "2024-12-22T07:43:42.990033Z",
     "start_time": "2024-12-22T07:43:42.973914Z"
    }
   },
   "source": [
    "import zipfile\n",
    "with zipfile.ZipFile('../artifacts/sentiment-analysis-dataset.zip','r') as zip_ref:\n",
    "    zip_ref.extractall('../artifacts/')"
   ],
   "outputs": [],
   "execution_count": 4
  },
  {
   "cell_type": "code",
   "execution_count": null,
   "id": "94b60937-5891-493d-9e06-b6adbeab9196",
   "metadata": {},
   "outputs": [],
   "source": []
  }
 ],
 "metadata": {
  "kernelspec": {
   "display_name": "Python 3 (ipykernel)",
   "language": "python",
   "name": "python3"
  },
  "language_info": {
   "codemirror_mode": {
    "name": "ipython",
    "version": 3
   },
   "file_extension": ".py",
   "mimetype": "text/x-python",
   "name": "python",
   "nbconvert_exporter": "python",
   "pygments_lexer": "ipython3",
   "version": "3.11.4"
  }
 },
 "nbformat": 4,
 "nbformat_minor": 5
}
