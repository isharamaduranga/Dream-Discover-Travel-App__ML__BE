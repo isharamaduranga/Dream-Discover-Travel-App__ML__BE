{
 "cells": [
  {
   "cell_type": "code",
   "execution_count": 1,
   "id": "61032b4a-672e-4670-9da6-ff874971fbd3",
   "metadata": {
    "ExecuteTime": {
     "end_time": "2024-12-22T08:49:34.679253Z",
     "start_time": "2024-12-22T08:49:33.466045Z"
    }
   },
   "outputs": [
    {
     "name": "stderr",
     "output_type": "stream",
     "text": [
      "C:\\Users\\Ishara Maduranga\\AppData\\Local\\Temp\\ipykernel_16720\\3637351966.py:1: DeprecationWarning: lib2to3 package is deprecated and may not be able to parse Python 3.10+\n",
      "  from lib2to3.btm_utils import tokens\n"
     ]
    }
   ],
   "source": [
    "from lib2to3.btm_utils import tokens\n",
    "\n",
    "import numpy as np\n",
    "import pandas as pd\n",
    "import matplotlib.pyplot as plt\n",
    "from nest_asyncio import apply\n",
    "from nltk.lm import vocabulary\n",
    "from pandas.io.sas.sas_constants import dataset_length"
   ]
  },
  {
   "cell_type": "code",
   "execution_count": 2,
   "id": "eb898d2f-0743-4160-9658-ac81ec07553e",
   "metadata": {
    "ExecuteTime": {
     "end_time": "2024-12-22T09:54:51.387565Z",
     "start_time": "2024-12-22T09:54:51.357509Z"
    }
   },
   "outputs": [],
   "source": [
    "data = pd.read_csv('../artifacts/tripadvisor_extended_1000.csv')"
   ]
  },
  {
   "cell_type": "code",
   "execution_count": 3,
   "id": "d53b1958-d563-4753-9061-81198912f531",
   "metadata": {
    "ExecuteTime": {
     "end_time": "2024-12-22T09:54:53.269344Z",
     "start_time": "2024-12-22T09:54:53.260173Z"
    }
   },
   "outputs": [
    {
     "data": {
      "text/html": [
       "<div>\n",
       "<style scoped>\n",
       "    .dataframe tbody tr th:only-of-type {\n",
       "        vertical-align: middle;\n",
       "    }\n",
       "\n",
       "    .dataframe tbody tr th {\n",
       "        vertical-align: top;\n",
       "    }\n",
       "\n",
       "    .dataframe thead th {\n",
       "        text-align: right;\n",
       "    }\n",
       "</style>\n",
       "<table border=\"1\" class=\"dataframe\">\n",
       "  <thead>\n",
       "    <tr style=\"text-align: right;\">\n",
       "      <th></th>\n",
       "      <th>id</th>\n",
       "      <th>tweet</th>\n",
       "      <th>label</th>\n",
       "    </tr>\n",
       "  </thead>\n",
       "  <tbody>\n",
       "    <tr>\n",
       "      <th>7532</th>\n",
       "      <td>7533</td>\n",
       "      <td>Bad experience! The location was good, but eve...</td>\n",
       "      <td>0</td>\n",
       "    </tr>\n",
       "    <tr>\n",
       "      <th>7533</th>\n",
       "      <td>7534</td>\n",
       "      <td>Average experience. Some things were good, som...</td>\n",
       "      <td>1</td>\n",
       "    </tr>\n",
       "    <tr>\n",
       "      <th>7534</th>\n",
       "      <td>7535</td>\n",
       "      <td>Stayed here for a week, and I must say, this w...</td>\n",
       "      <td>2</td>\n",
       "    </tr>\n",
       "    <tr>\n",
       "      <th>7535</th>\n",
       "      <td>7536</td>\n",
       "      <td>Horrible stay. The AC was broken, and the staf...</td>\n",
       "      <td>0</td>\n",
       "    </tr>\n",
       "    <tr>\n",
       "      <th>7536</th>\n",
       "      <td>7537</td>\n",
       "      <td>Not bad, but I've stayed at better places for ...</td>\n",
       "      <td>1</td>\n",
       "    </tr>\n",
       "    <tr>\n",
       "      <th>7537</th>\n",
       "      <td>7538</td>\n",
       "      <td>The noise was unbearable. Couldn’t sleep all n...</td>\n",
       "      <td>0</td>\n",
       "    </tr>\n",
       "    <tr>\n",
       "      <th>7538</th>\n",
       "      <td>7539</td>\n",
       "      <td>Totally regret booking this place. Stay away! ...</td>\n",
       "      <td>0</td>\n",
       "    </tr>\n",
       "    <tr>\n",
       "      <th>7539</th>\n",
       "      <td>7540</td>\n",
       "      <td>Best experience ever! The hotel ambiance was p...</td>\n",
       "      <td>2</td>\n",
       "    </tr>\n",
       "    <tr>\n",
       "      <th>7540</th>\n",
       "      <td>7541</td>\n",
       "      <td>Fairly comfortable, but I expected a little mo...</td>\n",
       "      <td>1</td>\n",
       "    </tr>\n",
       "    <tr>\n",
       "      <th>7541</th>\n",
       "      <td>7542</td>\n",
       "      <td>Fairly comfortable, but I expected a little mo...</td>\n",
       "      <td>1</td>\n",
       "    </tr>\n",
       "    <tr>\n",
       "      <th>7542</th>\n",
       "      <td>7543</td>\n",
       "      <td>Enjoyed my time here. The pool was clean, and ...</td>\n",
       "      <td>2</td>\n",
       "    </tr>\n",
       "    <tr>\n",
       "      <th>7543</th>\n",
       "      <td>7544</td>\n",
       "      <td>Enjoyed my time here. The pool was clean, and ...</td>\n",
       "      <td>2</td>\n",
       "    </tr>\n",
       "    <tr>\n",
       "      <th>7544</th>\n",
       "      <td>7545</td>\n",
       "      <td>Bad experience! The location was good, but eve...</td>\n",
       "      <td>0</td>\n",
       "    </tr>\n",
       "    <tr>\n",
       "      <th>7545</th>\n",
       "      <td>7546</td>\n",
       "      <td>Best experience ever! The hotel ambiance was p...</td>\n",
       "      <td>2</td>\n",
       "    </tr>\n",
       "    <tr>\n",
       "      <th>7546</th>\n",
       "      <td>7547</td>\n",
       "      <td>Bad experience! The location was good, but eve...</td>\n",
       "      <td>0</td>\n",
       "    </tr>\n",
       "    <tr>\n",
       "      <th>7547</th>\n",
       "      <td>7548</td>\n",
       "      <td>The noise was unbearable. Couldn’t sleep all n...</td>\n",
       "      <td>0</td>\n",
       "    </tr>\n",
       "    <tr>\n",
       "      <th>7548</th>\n",
       "      <td>7549</td>\n",
       "      <td>Totally regret booking this place. Stay away! ...</td>\n",
       "      <td>0</td>\n",
       "    </tr>\n",
       "    <tr>\n",
       "      <th>7549</th>\n",
       "      <td>7550</td>\n",
       "      <td>A reasonable place for a short stay, but nothi...</td>\n",
       "      <td>1</td>\n",
       "    </tr>\n",
       "    <tr>\n",
       "      <th>7550</th>\n",
       "      <td>7551</td>\n",
       "      <td>It was fine for a business trip. Nothing too f...</td>\n",
       "      <td>1</td>\n",
       "    </tr>\n",
       "    <tr>\n",
       "      <th>7551</th>\n",
       "      <td>7552</td>\n",
       "      <td>Not worth the money. The rooms smelled bad, an...</td>\n",
       "      <td>0</td>\n",
       "    </tr>\n",
       "  </tbody>\n",
       "</table>\n",
       "</div>"
      ],
      "text/plain": [
       "        id                                              tweet  label\n",
       "7532  7533  Bad experience! The location was good, but eve...      0\n",
       "7533  7534  Average experience. Some things were good, som...      1\n",
       "7534  7535  Stayed here for a week, and I must say, this w...      2\n",
       "7535  7536  Horrible stay. The AC was broken, and the staf...      0\n",
       "7536  7537  Not bad, but I've stayed at better places for ...      1\n",
       "7537  7538  The noise was unbearable. Couldn’t sleep all n...      0\n",
       "7538  7539  Totally regret booking this place. Stay away! ...      0\n",
       "7539  7540  Best experience ever! The hotel ambiance was p...      2\n",
       "7540  7541  Fairly comfortable, but I expected a little mo...      1\n",
       "7541  7542  Fairly comfortable, but I expected a little mo...      1\n",
       "7542  7543  Enjoyed my time here. The pool was clean, and ...      2\n",
       "7543  7544  Enjoyed my time here. The pool was clean, and ...      2\n",
       "7544  7545  Bad experience! The location was good, but eve...      0\n",
       "7545  7546  Best experience ever! The hotel ambiance was p...      2\n",
       "7546  7547  Bad experience! The location was good, but eve...      0\n",
       "7547  7548  The noise was unbearable. Couldn’t sleep all n...      0\n",
       "7548  7549  Totally regret booking this place. Stay away! ...      0\n",
       "7549  7550  A reasonable place for a short stay, but nothi...      1\n",
       "7550  7551  It was fine for a business trip. Nothing too f...      1\n",
       "7551  7552  Not worth the money. The rooms smelled bad, an...      0"
      ]
     },
     "execution_count": 3,
     "metadata": {},
     "output_type": "execute_result"
    }
   ],
   "source": [
    "data.tail(20)"
   ]
  },
  {
   "cell_type": "code",
   "execution_count": 4,
   "id": "1499d580-ace8-44c3-8764-10a66947f900",
   "metadata": {
    "ExecuteTime": {
     "end_time": "2024-12-22T08:43:45.406679Z",
     "start_time": "2024-12-22T08:43:45.401859Z"
    }
   },
   "outputs": [],
   "source": [
    "## Data Preprocessing "
   ]
  },
  {
   "cell_type": "code",
   "execution_count": 5,
   "id": "c0ff8338-53d3-4750-a70a-e25bd865ec82",
   "metadata": {
    "ExecuteTime": {
     "end_time": "2024-12-22T09:54:57.379461Z",
     "start_time": "2024-12-22T09:54:57.371494Z"
    }
   },
   "outputs": [
    {
     "data": {
      "text/plain": [
       "(7552, 3)"
      ]
     },
     "execution_count": 5,
     "metadata": {},
     "output_type": "execute_result"
    }
   ],
   "source": [
    "data.shape"
   ]
  },
  {
   "cell_type": "code",
   "execution_count": 6,
   "id": "a42c12bb-9002-4ccb-a696-1ae75515b99c",
   "metadata": {
    "ExecuteTime": {
     "end_time": "2024-12-22T09:54:59.314171Z",
     "start_time": "2024-12-22T09:54:59.301302Z"
    }
   },
   "outputs": [
    {
     "data": {
      "text/plain": [
       "np.int64(0)"
      ]
     },
     "execution_count": 6,
     "metadata": {},
     "output_type": "execute_result"
    }
   ],
   "source": [
    "data.duplicated().sum()"
   ]
  },
  {
   "cell_type": "code",
   "execution_count": 7,
   "id": "621608c4-3e1b-4727-80f6-9fba39af00c5",
   "metadata": {},
   "outputs": [
    {
     "name": "stdout",
     "output_type": "stream",
     "text": [
      "Updated data shape: (7552, 3)\n",
      "Number of duplicates remaining: 0\n"
     ]
    }
   ],
   "source": [
    "# Remove duplicate rows from the original dataset\n",
    "data.drop_duplicates(inplace=True)\n",
    "\n",
    "# Verify if duplicates are removed\n",
    "print(\"Updated data shape:\", data.shape)\n",
    "print(\"Number of duplicates remaining:\", data.duplicated().sum())"
   ]
  },
  {
   "cell_type": "code",
   "execution_count": 8,
   "id": "023389a4-503f-4fc4-802a-8d1d61cedefb",
   "metadata": {},
   "outputs": [
    {
     "data": {
      "text/plain": [
       "np.int64(0)"
      ]
     },
     "execution_count": 8,
     "metadata": {},
     "output_type": "execute_result"
    }
   ],
   "source": [
    "data.duplicated().sum()"
   ]
  },
  {
   "cell_type": "code",
   "execution_count": 9,
   "id": "632322c5-cd6e-45d1-a2cd-ae72f753576d",
   "metadata": {
    "ExecuteTime": {
     "end_time": "2024-12-22T09:55:01.144542Z",
     "start_time": "2024-12-22T09:55:01.135545Z"
    }
   },
   "outputs": [
    {
     "data": {
      "text/plain": [
       "id       0\n",
       "tweet    0\n",
       "label    0\n",
       "dtype: int64"
      ]
     },
     "execution_count": 9,
     "metadata": {},
     "output_type": "execute_result"
    }
   ],
   "source": [
    "data.isnull().sum()"
   ]
  },
  {
   "cell_type": "code",
   "execution_count": 10,
   "id": "2a17f279-b28b-463a-bd2c-8f0c8ac0bef8",
   "metadata": {},
   "outputs": [],
   "source": [
    "### Text Preprocessing"
   ]
  },
  {
   "cell_type": "code",
   "execution_count": 11,
   "id": "7ccade82-b2de-46cf-af9a-27298d456507",
   "metadata": {
    "ExecuteTime": {
     "end_time": "2024-12-22T09:55:03.433362Z",
     "start_time": "2024-12-22T09:55:03.427270Z"
    }
   },
   "outputs": [],
   "source": [
    "import re\n",
    "import string"
   ]
  },
  {
   "cell_type": "code",
   "execution_count": 12,
   "id": "c8dc45d1-87d2-437f-976d-8a3f096cab98",
   "metadata": {},
   "outputs": [],
   "source": [
    "#### Convert uppercase to lower case"
   ]
  },
  {
   "cell_type": "code",
   "execution_count": 13,
   "id": "5333d826-bb5c-44c9-9493-4d887863df2d",
   "metadata": {
    "ExecuteTime": {
     "end_time": "2024-12-22T09:55:05.760567Z",
     "start_time": "2024-12-22T09:55:05.752646Z"
    }
   },
   "outputs": [
    {
     "data": {
      "text/plain": [
       "0    nice average stayed recently mid-october got g...\n",
       "1    westin rio mar worth trip friend just returned...\n",
       "2    okay not great stayed apolo tryp 2 nights pret...\n",
       "3    good not great stayed friend neri early, thoug...\n",
       "4    poor customer service poor customer service no...\n",
       "Name: tweet, dtype: object"
      ]
     },
     "execution_count": 13,
     "metadata": {},
     "output_type": "execute_result"
    }
   ],
   "source": [
    "data[\"tweet\"].head(5)"
   ]
  },
  {
   "cell_type": "code",
   "execution_count": 14,
   "id": "132a5f8f-73e4-4816-999d-8cbcdfa55343",
   "metadata": {
    "ExecuteTime": {
     "end_time": "2024-12-22T09:55:10.809085Z",
     "start_time": "2024-12-22T09:55:10.769086Z"
    }
   },
   "outputs": [],
   "source": [
    "data[\"tweet\"] = data[\"tweet\"].apply(lambda x: \" \".join(x.lower() for x in x.split()))"
   ]
  },
  {
   "cell_type": "code",
   "execution_count": 15,
   "id": "2a1bf3a1-c7c6-4330-97a1-633287f33a56",
   "metadata": {
    "ExecuteTime": {
     "end_time": "2024-12-22T09:55:16.042253Z",
     "start_time": "2024-12-22T09:55:16.034294Z"
    }
   },
   "outputs": [
    {
     "data": {
      "text/plain": [
       "0    nice average stayed recently mid-october got g...\n",
       "1    westin rio mar worth trip friend just returned...\n",
       "2    okay not great stayed apolo tryp 2 nights pret...\n",
       "3    good not great stayed friend neri early, thoug...\n",
       "4    poor customer service poor customer service no...\n",
       "Name: tweet, dtype: object"
      ]
     },
     "execution_count": 15,
     "metadata": {},
     "output_type": "execute_result"
    }
   ],
   "source": [
    "data[\"tweet\"].head(5)"
   ]
  },
  {
   "cell_type": "code",
   "execution_count": 16,
   "id": "211e3c87-1d62-4acc-8e3e-8c993d4b075e",
   "metadata": {},
   "outputs": [],
   "source": [
    "#### Remove Links"
   ]
  },
  {
   "cell_type": "code",
   "execution_count": 17,
   "id": "d7a55e58-86b5-4fa0-8bed-67c57fc75f98",
   "metadata": {
    "ExecuteTime": {
     "end_time": "2024-12-22T09:55:20.403271Z",
     "start_time": "2024-12-22T09:55:20.265116Z"
    }
   },
   "outputs": [],
   "source": [
    "data[\"tweet\"] = data[\"tweet\"].apply(lambda x: \" \".join(re.sub(r'^https?:\\/\\/.*[\\r\\n]*','',x,flags=re.MULTILINE) for x in x.split()))"
   ]
  },
  {
   "cell_type": "code",
   "execution_count": 18,
   "id": "d04e898f-f942-4680-9037-d9fef79f431d",
   "metadata": {
    "ExecuteTime": {
     "end_time": "2024-12-22T09:55:25.815581Z",
     "start_time": "2024-12-22T09:55:25.807589Z"
    }
   },
   "outputs": [
    {
     "data": {
      "text/plain": [
       "0    nice average stayed recently mid-october got g...\n",
       "1    westin rio mar worth trip friend just returned...\n",
       "2    okay not great stayed apolo tryp 2 nights pret...\n",
       "3    good not great stayed friend neri early, thoug...\n",
       "4    poor customer service poor customer service no...\n",
       "Name: tweet, dtype: object"
      ]
     },
     "execution_count": 18,
     "metadata": {},
     "output_type": "execute_result"
    }
   ],
   "source": [
    "data[\"tweet\"].head(5)"
   ]
  },
  {
   "cell_type": "code",
   "execution_count": 19,
   "id": "9287c75c-629a-4fb5-93ad-d7dffe4c2928",
   "metadata": {},
   "outputs": [],
   "source": [
    "#### Remove Punctuations"
   ]
  },
  {
   "cell_type": "code",
   "execution_count": 20,
   "id": "dec536cf-6680-4983-91c9-cc106825bfd5",
   "metadata": {
    "ExecuteTime": {
     "end_time": "2024-12-22T09:55:29.773892Z",
     "start_time": "2024-12-22T09:55:29.735944Z"
    }
   },
   "outputs": [
    {
     "data": {
      "text/plain": [
       "'!\"#$%&\\'()*+,-./:;<=>?@[\\\\]^_`{|}~'"
      ]
     },
     "execution_count": 20,
     "metadata": {},
     "output_type": "execute_result"
    }
   ],
   "source": [
    "string.punctuation"
   ]
  },
  {
   "cell_type": "code",
   "execution_count": 21,
   "id": "33b9baf1-4acd-4559-bd3d-38a2640fc04c",
   "metadata": {
    "ExecuteTime": {
     "end_time": "2024-12-22T09:55:32.154973Z",
     "start_time": "2024-12-22T09:55:32.079117Z"
    }
   },
   "outputs": [],
   "source": [
    "def remove_punctuations (text):\n",
    "    for punctuation in string.punctuation:\n",
    "        text = text.replace(punctuation, '')\n",
    "    return text\n",
    "data[\"tweet\"] = data[\"tweet\"].apply(remove_punctuations)"
   ]
  },
  {
   "cell_type": "code",
   "execution_count": 22,
   "id": "253ee872-e28c-4513-854d-9f8276b91537",
   "metadata": {
    "ExecuteTime": {
     "end_time": "2024-12-22T09:55:35.096092Z",
     "start_time": "2024-12-22T09:55:35.088162Z"
    }
   },
   "outputs": [
    {
     "data": {
      "text/plain": [
       "0    nice average stayed recently midoctober got go...\n",
       "1    westin rio mar worth trip friend just returned...\n",
       "2    okay not great stayed apolo tryp 2 nights pret...\n",
       "3    good not great stayed friend neri early though...\n",
       "4    poor customer service poor customer service no...\n",
       "Name: tweet, dtype: object"
      ]
     },
     "execution_count": 22,
     "metadata": {},
     "output_type": "execute_result"
    }
   ],
   "source": [
    "data[\"tweet\"].head(5)"
   ]
  },
  {
   "cell_type": "code",
   "execution_count": 23,
   "id": "f5c0791e-e0c4-4437-9247-a473ef7afe4c",
   "metadata": {},
   "outputs": [],
   "source": [
    "#### Remove Numbers"
   ]
  },
  {
   "cell_type": "code",
   "execution_count": 24,
   "id": "4d79c80e-0f44-4c2e-b4ea-1fb5612138e4",
   "metadata": {
    "ExecuteTime": {
     "end_time": "2024-12-22T09:55:40.161105Z",
     "start_time": "2024-12-22T09:55:40.152371Z"
    }
   },
   "outputs": [
    {
     "data": {
      "text/plain": [
       "7542    enjoyed my time here the pool was clean and th...\n",
       "7543    enjoyed my time here the pool was clean and th...\n",
       "7544    bad experience the location was good but every...\n",
       "7545    best experience ever the hotel ambiance was pe...\n",
       "7546    bad experience the location was good but every...\n",
       "7547    the noise was unbearable couldn’t sleep all ni...\n",
       "7548    totally regret booking this place stay away th...\n",
       "7549    a reasonable place for a short stay but nothin...\n",
       "7550    it was fine for a business trip nothing too fa...\n",
       "7551    not worth the money the rooms smelled bad and ...\n",
       "Name: tweet, dtype: object"
      ]
     },
     "execution_count": 24,
     "metadata": {},
     "output_type": "execute_result"
    }
   ],
   "source": [
    "data[\"tweet\"].tail(10)"
   ]
  },
  {
   "cell_type": "code",
   "execution_count": 25,
   "id": "9683cea9-9d3b-4377-9c64-b1b947e6d958",
   "metadata": {
    "ExecuteTime": {
     "end_time": "2024-12-22T09:55:47.591040Z",
     "start_time": "2024-12-22T09:55:47.561463Z"
    }
   },
   "outputs": [],
   "source": [
    "data[\"tweet\"] = data[\"tweet\"].str.replace('\\d+','',regex=True)"
   ]
  },
  {
   "cell_type": "code",
   "execution_count": 26,
   "id": "c661fadb-6668-488c-8ae1-b526c02ff21a",
   "metadata": {
    "ExecuteTime": {
     "end_time": "2024-12-22T09:55:51.247562Z",
     "start_time": "2024-12-22T09:55:51.239363Z"
    }
   },
   "outputs": [
    {
     "data": {
      "text/plain": [
       "7542    enjoyed my time here the pool was clean and th...\n",
       "7543    enjoyed my time here the pool was clean and th...\n",
       "7544    bad experience the location was good but every...\n",
       "7545    best experience ever the hotel ambiance was pe...\n",
       "7546    bad experience the location was good but every...\n",
       "7547    the noise was unbearable couldn’t sleep all ni...\n",
       "7548    totally regret booking this place stay away th...\n",
       "7549    a reasonable place for a short stay but nothin...\n",
       "7550    it was fine for a business trip nothing too fa...\n",
       "7551    not worth the money the rooms smelled bad and ...\n",
       "Name: tweet, dtype: object"
      ]
     },
     "execution_count": 26,
     "metadata": {},
     "output_type": "execute_result"
    }
   ],
   "source": [
    "data[\"tweet\"].tail(10)"
   ]
  },
  {
   "cell_type": "code",
   "execution_count": 27,
   "id": "39126fa3-2ca7-4e73-a068-dafb625eee86",
   "metadata": {},
   "outputs": [],
   "source": [
    "#### Remove Stop Words"
   ]
  },
  {
   "cell_type": "code",
   "execution_count": 28,
   "id": "937df66d-c344-4ecb-ab9c-c027adfb0049",
   "metadata": {
    "ExecuteTime": {
     "end_time": "2024-12-22T09:56:02.052635Z",
     "start_time": "2024-12-22T09:56:00.742747Z"
    }
   },
   "outputs": [
    {
     "name": "stdout",
     "output_type": "stream",
     "text": [
      "Requirement already satisfied: nltk in d:\\movies\\yb_ml_help\\sentiment_analysis_project\\env\\lib\\site-packages (3.9.1)\n",
      "Requirement already satisfied: click in d:\\movies\\yb_ml_help\\sentiment_analysis_project\\env\\lib\\site-packages (from nltk) (8.1.8)\n",
      "Requirement already satisfied: joblib in d:\\movies\\yb_ml_help\\sentiment_analysis_project\\env\\lib\\site-packages (from nltk) (1.4.2)\n",
      "Requirement already satisfied: regex>=2021.8.3 in d:\\movies\\yb_ml_help\\sentiment_analysis_project\\env\\lib\\site-packages (from nltk) (2024.11.6)\n",
      "Requirement already satisfied: tqdm in d:\\movies\\yb_ml_help\\sentiment_analysis_project\\env\\lib\\site-packages (from nltk) (4.67.1)\n",
      "Requirement already satisfied: colorama in d:\\movies\\yb_ml_help\\sentiment_analysis_project\\env\\lib\\site-packages (from click->nltk) (0.4.6)\n"
     ]
    }
   ],
   "source": [
    "!pip install nltk"
   ]
  },
  {
   "cell_type": "code",
   "execution_count": null,
   "id": "8dc1c310-0b09-4222-ae08-937c36ac1f3e",
   "metadata": {},
   "outputs": [],
   "source": []
  },
  {
   "cell_type": "code",
   "execution_count": 29,
   "id": "2eb40cab-5c21-43a8-89d7-ed12092d6294",
   "metadata": {
    "ExecuteTime": {
     "end_time": "2024-12-22T09:56:05.490773Z",
     "start_time": "2024-12-22T09:56:05.484771Z"
    }
   },
   "outputs": [],
   "source": [
    "import nltk"
   ]
  },
  {
   "cell_type": "code",
   "execution_count": 30,
   "id": "56ca886e-f350-4600-ad72-ccb2e62b2ec0",
   "metadata": {
    "ExecuteTime": {
     "end_time": "2024-12-22T09:41:10.828685Z",
     "start_time": "2024-12-22T09:41:09.090094Z"
    }
   },
   "outputs": [
    {
     "name": "stderr",
     "output_type": "stream",
     "text": [
      "[nltk_data] Downloading package stopwords to ../static/model...\n",
      "[nltk_data]   Package stopwords is already up-to-date!\n"
     ]
    },
    {
     "data": {
      "text/plain": [
       "True"
      ]
     },
     "execution_count": 30,
     "metadata": {},
     "output_type": "execute_result"
    }
   ],
   "source": [
    "nltk.download('stopwords',download_dir='../static/model')"
   ]
  },
  {
   "cell_type": "code",
   "execution_count": 31,
   "id": "4f15d81c-079f-4e6a-885c-bf60beefdb77",
   "metadata": {
    "ExecuteTime": {
     "end_time": "2024-12-22T09:56:10.294362Z",
     "start_time": "2024-12-22T09:56:10.287940Z"
    }
   },
   "outputs": [],
   "source": [
    "with open('../static/model/corpora/stopwords/english','r') as file:\n",
    "    sw = file.read().splitlines()"
   ]
  },
  {
   "cell_type": "code",
   "execution_count": 32,
   "id": "f49ee867-7f91-4778-a0fa-81b8dcdf3e6c",
   "metadata": {
    "ExecuteTime": {
     "end_time": "2024-12-22T09:56:12.422266Z",
     "start_time": "2024-12-22T09:56:12.413278Z"
    }
   },
   "outputs": [
    {
     "data": {
      "text/plain": [
       "['i',\n",
       " 'me',\n",
       " 'my',\n",
       " 'myself',\n",
       " 'we',\n",
       " 'our',\n",
       " 'ours',\n",
       " 'ourselves',\n",
       " 'you',\n",
       " \"you're\",\n",
       " \"you've\",\n",
       " \"you'll\",\n",
       " \"you'd\",\n",
       " 'your',\n",
       " 'yours',\n",
       " 'yourself',\n",
       " 'yourselves',\n",
       " 'he',\n",
       " 'him',\n",
       " 'his',\n",
       " 'himself',\n",
       " 'she',\n",
       " \"she's\",\n",
       " 'her',\n",
       " 'hers',\n",
       " 'herself',\n",
       " 'it',\n",
       " \"it's\",\n",
       " 'its',\n",
       " 'itself',\n",
       " 'they',\n",
       " 'them',\n",
       " 'their',\n",
       " 'theirs',\n",
       " 'themselves',\n",
       " 'what',\n",
       " 'which',\n",
       " 'who',\n",
       " 'whom',\n",
       " 'this',\n",
       " 'that',\n",
       " \"that'll\",\n",
       " 'these',\n",
       " 'those',\n",
       " 'am',\n",
       " 'is',\n",
       " 'are',\n",
       " 'was',\n",
       " 'were',\n",
       " 'be',\n",
       " 'been',\n",
       " 'being',\n",
       " 'have',\n",
       " 'has',\n",
       " 'had',\n",
       " 'having',\n",
       " 'do',\n",
       " 'does',\n",
       " 'did',\n",
       " 'doing',\n",
       " 'a',\n",
       " 'an',\n",
       " 'the',\n",
       " 'and',\n",
       " 'but',\n",
       " 'if',\n",
       " 'or',\n",
       " 'because',\n",
       " 'as',\n",
       " 'until',\n",
       " 'while',\n",
       " 'of',\n",
       " 'at',\n",
       " 'by',\n",
       " 'for',\n",
       " 'with',\n",
       " 'about',\n",
       " 'against',\n",
       " 'between',\n",
       " 'into',\n",
       " 'through',\n",
       " 'during',\n",
       " 'before',\n",
       " 'after',\n",
       " 'above',\n",
       " 'below',\n",
       " 'to',\n",
       " 'from',\n",
       " 'up',\n",
       " 'down',\n",
       " 'in',\n",
       " 'out',\n",
       " 'on',\n",
       " 'off',\n",
       " 'over',\n",
       " 'under',\n",
       " 'again',\n",
       " 'further',\n",
       " 'then',\n",
       " 'once',\n",
       " 'here',\n",
       " 'there',\n",
       " 'when',\n",
       " 'where',\n",
       " 'why',\n",
       " 'how',\n",
       " 'all',\n",
       " 'any',\n",
       " 'both',\n",
       " 'each',\n",
       " 'few',\n",
       " 'more',\n",
       " 'most',\n",
       " 'other',\n",
       " 'some',\n",
       " 'such',\n",
       " 'no',\n",
       " 'nor',\n",
       " 'not',\n",
       " 'only',\n",
       " 'own',\n",
       " 'same',\n",
       " 'so',\n",
       " 'than',\n",
       " 'too',\n",
       " 'very',\n",
       " 's',\n",
       " 't',\n",
       " 'can',\n",
       " 'will',\n",
       " 'just',\n",
       " 'don',\n",
       " \"don't\",\n",
       " 'should',\n",
       " \"should've\",\n",
       " 'now',\n",
       " 'd',\n",
       " 'll',\n",
       " 'm',\n",
       " 'o',\n",
       " 're',\n",
       " 've',\n",
       " 'y',\n",
       " 'ain',\n",
       " 'aren',\n",
       " \"aren't\",\n",
       " 'couldn',\n",
       " \"couldn't\",\n",
       " 'didn',\n",
       " \"didn't\",\n",
       " 'doesn',\n",
       " \"doesn't\",\n",
       " 'hadn',\n",
       " \"hadn't\",\n",
       " 'hasn',\n",
       " \"hasn't\",\n",
       " 'haven',\n",
       " \"haven't\",\n",
       " 'isn',\n",
       " \"isn't\",\n",
       " 'ma',\n",
       " 'mightn',\n",
       " \"mightn't\",\n",
       " 'mustn',\n",
       " \"mustn't\",\n",
       " 'needn',\n",
       " \"needn't\",\n",
       " 'shan',\n",
       " \"shan't\",\n",
       " 'shouldn',\n",
       " \"shouldn't\",\n",
       " 'wasn',\n",
       " \"wasn't\",\n",
       " 'weren',\n",
       " \"weren't\",\n",
       " 'won',\n",
       " \"won't\",\n",
       " 'wouldn',\n",
       " \"wouldn't\"]"
      ]
     },
     "execution_count": 32,
     "metadata": {},
     "output_type": "execute_result"
    }
   ],
   "source": [
    "sw"
   ]
  },
  {
   "cell_type": "code",
   "execution_count": 33,
   "id": "c5c74c12-29b3-4851-92c1-2da0f97da245",
   "metadata": {
    "ExecuteTime": {
     "end_time": "2024-12-22T09:56:48.207073Z",
     "start_time": "2024-12-22T09:56:47.701891Z"
    }
   },
   "outputs": [],
   "source": [
    "data[\"tweet\"] = data[\"tweet\"].apply(lambda x: \" \".join(x for x in x.split() if x not in sw))"
   ]
  },
  {
   "cell_type": "code",
   "execution_count": 34,
   "id": "4cd1637a-294d-4284-8013-d91869475c1b",
   "metadata": {
    "ExecuteTime": {
     "end_time": "2024-12-22T09:56:52.563265Z",
     "start_time": "2024-12-22T09:56:52.553265Z"
    }
   },
   "outputs": [
    {
     "data": {
      "text/plain": [
       "0    nice average stayed recently midoctober got go...\n",
       "1    westin rio mar worth trip friend returned days...\n",
       "2    okay great stayed apolo tryp nights pretty sta...\n",
       "3    good great stayed friend neri early thought gr...\n",
       "4    poor customer service poor customer service re...\n",
       "Name: tweet, dtype: object"
      ]
     },
     "execution_count": 34,
     "metadata": {},
     "output_type": "execute_result"
    }
   ],
   "source": [
    "data[\"tweet\"].head(5)"
   ]
  },
  {
   "cell_type": "code",
   "execution_count": 35,
   "id": "1cc79173-9c9b-45be-9e3f-e660a1bb3f00",
   "metadata": {},
   "outputs": [],
   "source": [
    "#### Stemming (find same meaning words and replace based word eg: go , goes , gone , going)"
   ]
  },
  {
   "cell_type": "code",
   "execution_count": 36,
   "id": "3fb488d6-6a37-4385-8766-e81ef4853507",
   "metadata": {
    "ExecuteTime": {
     "end_time": "2024-12-22T10:00:30.181614Z",
     "start_time": "2024-12-22T10:00:30.175550Z"
    }
   },
   "outputs": [],
   "source": [
    "from nltk.stem import PorterStemmer\n",
    "ps = PorterStemmer()"
   ]
  },
  {
   "cell_type": "code",
   "execution_count": 37,
   "id": "e3312f08-ed06-4c06-ae70-82e7c08d42e9",
   "metadata": {
    "ExecuteTime": {
     "end_time": "2024-12-22T10:04:12.473945Z",
     "start_time": "2024-12-22T10:04:11.051809Z"
    }
   },
   "outputs": [],
   "source": [
    "data['tweet'] = data['tweet'].apply(lambda x: \" \".join(ps.stem(x) for x in x.split()))"
   ]
  },
  {
   "cell_type": "code",
   "execution_count": 38,
   "id": "acaf79db-9f7b-405c-9efd-055d1d713345",
   "metadata": {
    "ExecuteTime": {
     "end_time": "2024-12-22T10:04:39.901454Z",
     "start_time": "2024-12-22T10:04:39.892647Z"
    }
   },
   "outputs": [
    {
     "data": {
      "text/plain": [
       "0    nice averag stay recent midoctob got good deal...\n",
       "1    westin rio mar worth trip friend return day we...\n",
       "2    okay great stay apolo tryp night pretti standa...\n",
       "3    good great stay friend neri earli thought grea...\n",
       "4    poor custom servic poor custom servic respond ...\n",
       "Name: tweet, dtype: object"
      ]
     },
     "execution_count": 38,
     "metadata": {},
     "output_type": "execute_result"
    }
   ],
   "source": [
    "data[\"tweet\"].head(5)"
   ]
  },
  {
   "cell_type": "code",
   "execution_count": 39,
   "id": "f297d39f-ef7f-4df8-b621-1cd5305d1ecc",
   "metadata": {
    "ExecuteTime": {
     "end_time": "2024-12-22T10:05:46.819999Z",
     "start_time": "2024-12-22T10:05:46.807982Z"
    }
   },
   "outputs": [
    {
     "data": {
      "text/html": [
       "<div>\n",
       "<style scoped>\n",
       "    .dataframe tbody tr th:only-of-type {\n",
       "        vertical-align: middle;\n",
       "    }\n",
       "\n",
       "    .dataframe tbody tr th {\n",
       "        vertical-align: top;\n",
       "    }\n",
       "\n",
       "    .dataframe thead th {\n",
       "        text-align: right;\n",
       "    }\n",
       "</style>\n",
       "<table border=\"1\" class=\"dataframe\">\n",
       "  <thead>\n",
       "    <tr style=\"text-align: right;\">\n",
       "      <th></th>\n",
       "      <th>id</th>\n",
       "      <th>tweet</th>\n",
       "      <th>label</th>\n",
       "    </tr>\n",
       "  </thead>\n",
       "  <tbody>\n",
       "    <tr>\n",
       "      <th>0</th>\n",
       "      <td>1</td>\n",
       "      <td>nice averag stay recent midoctob got good deal...</td>\n",
       "      <td>1</td>\n",
       "    </tr>\n",
       "    <tr>\n",
       "      <th>1</th>\n",
       "      <td>2</td>\n",
       "      <td>westin rio mar worth trip friend return day we...</td>\n",
       "      <td>2</td>\n",
       "    </tr>\n",
       "    <tr>\n",
       "      <th>2</th>\n",
       "      <td>3</td>\n",
       "      <td>okay great stay apolo tryp night pretti standa...</td>\n",
       "      <td>1</td>\n",
       "    </tr>\n",
       "    <tr>\n",
       "      <th>3</th>\n",
       "      <td>4</td>\n",
       "      <td>good great stay friend neri earli thought grea...</td>\n",
       "      <td>1</td>\n",
       "    </tr>\n",
       "    <tr>\n",
       "      <th>4</th>\n",
       "      <td>5</td>\n",
       "      <td>poor custom servic poor custom servic respond ...</td>\n",
       "      <td>0</td>\n",
       "    </tr>\n",
       "    <tr>\n",
       "      <th>...</th>\n",
       "      <td>...</td>\n",
       "      <td>...</td>\n",
       "      <td>...</td>\n",
       "    </tr>\n",
       "    <tr>\n",
       "      <th>7547</th>\n",
       "      <td>7548</td>\n",
       "      <td>nois unbear couldn’t sleep night loud music ne...</td>\n",
       "      <td>0</td>\n",
       "    </tr>\n",
       "    <tr>\n",
       "      <th>7548</th>\n",
       "      <td>7549</td>\n",
       "      <td>total regret book place stay away pictur onlin...</td>\n",
       "      <td>0</td>\n",
       "    </tr>\n",
       "    <tr>\n",
       "      <th>7549</th>\n",
       "      <td>7550</td>\n",
       "      <td>reason place short stay noth rave lobbi look e...</td>\n",
       "      <td>1</td>\n",
       "    </tr>\n",
       "    <tr>\n",
       "      <th>7550</th>\n",
       "      <td>7551</td>\n",
       "      <td>fine busi trip noth fanci confer room wellequi...</td>\n",
       "      <td>1</td>\n",
       "    </tr>\n",
       "    <tr>\n",
       "      <th>7551</th>\n",
       "      <td>7552</td>\n",
       "      <td>worth money room smell bad food aw restaur sta...</td>\n",
       "      <td>0</td>\n",
       "    </tr>\n",
       "  </tbody>\n",
       "</table>\n",
       "<p>7552 rows × 3 columns</p>\n",
       "</div>"
      ],
      "text/plain": [
       "        id                                              tweet  label\n",
       "0        1  nice averag stay recent midoctob got good deal...      1\n",
       "1        2  westin rio mar worth trip friend return day we...      2\n",
       "2        3  okay great stay apolo tryp night pretti standa...      1\n",
       "3        4  good great stay friend neri earli thought grea...      1\n",
       "4        5  poor custom servic poor custom servic respond ...      0\n",
       "...    ...                                                ...    ...\n",
       "7547  7548  nois unbear couldn’t sleep night loud music ne...      0\n",
       "7548  7549  total regret book place stay away pictur onlin...      0\n",
       "7549  7550  reason place short stay noth rave lobbi look e...      1\n",
       "7550  7551  fine busi trip noth fanci confer room wellequi...      1\n",
       "7551  7552  worth money room smell bad food aw restaur sta...      0\n",
       "\n",
       "[7552 rows x 3 columns]"
      ]
     },
     "execution_count": 39,
     "metadata": {},
     "output_type": "execute_result"
    }
   ],
   "source": [
    "data"
   ]
  },
  {
   "cell_type": "code",
   "execution_count": 40,
   "id": "4a5438bd-644f-48a1-a5a8-aa02d1d34816",
   "metadata": {},
   "outputs": [],
   "source": [
    "### Building Vacabulary"
   ]
  },
  {
   "cell_type": "code",
   "execution_count": 41,
   "id": "8a3a6561-9d0c-4cac-bbb7-316f0eb99e1e",
   "metadata": {
    "ExecuteTime": {
     "end_time": "2024-12-22T11:45:58.339117Z",
     "start_time": "2024-12-22T11:45:58.333791Z"
    }
   },
   "outputs": [],
   "source": [
    "from  collections import Counter\n",
    "vocab = Counter()"
   ]
  },
  {
   "cell_type": "code",
   "execution_count": 42,
   "id": "ea614353-1b1f-4ed4-832c-1c99385a8117",
   "metadata": {
    "ExecuteTime": {
     "end_time": "2024-12-22T11:45:59.641328Z",
     "start_time": "2024-12-22T11:45:59.636531Z"
    }
   },
   "outputs": [],
   "source": [
    "#vocab.update(['java','python','python','c++'])"
   ]
  },
  {
   "cell_type": "code",
   "execution_count": 43,
   "id": "6e42b376-2313-4a12-ab7f-1df2a62ab25a",
   "metadata": {
    "ExecuteTime": {
     "end_time": "2024-12-22T11:46:00.931135Z",
     "start_time": "2024-12-22T11:46:00.925687Z"
    }
   },
   "outputs": [],
   "source": [
    "#vocab"
   ]
  },
  {
   "cell_type": "code",
   "execution_count": 44,
   "id": "49637349-738c-4de0-9524-114140d91585",
   "metadata": {
    "ExecuteTime": {
     "end_time": "2024-12-22T11:48:37.957850Z",
     "start_time": "2024-12-22T11:48:37.920720Z"
    }
   },
   "outputs": [],
   "source": [
    "for sentence in data['tweet']:\n",
    "    vocab.update(sentence.split())"
   ]
  },
  {
   "cell_type": "code",
   "execution_count": 45,
   "id": "e6159731-ffa5-4a14-ac5a-533347191939",
   "metadata": {
    "ExecuteTime": {
     "end_time": "2024-12-22T11:48:40.131722Z",
     "start_time": "2024-12-22T11:48:40.092014Z"
    }
   },
   "outputs": [
    {
     "data": {
      "text/plain": [
       "Counter({'room': 17502,\n",
       "         'hotel': 16450,\n",
       "         'stay': 9467,\n",
       "         'nt': 7363,\n",
       "         'good': 5676,\n",
       "         'great': 5507,\n",
       "         'staff': 5147,\n",
       "         'night': 5086,\n",
       "         'day': 4647,\n",
       "         'time': 4630,\n",
       "         'nice': 4435,\n",
       "         'servic': 4185,\n",
       "         'locat': 4169,\n",
       "         'like': 3668,\n",
       "         'beach': 3667,\n",
       "         'place': 3641,\n",
       "         'resort': 3449,\n",
       "         'clean': 3426,\n",
       "         'food': 3378,\n",
       "         'restaur': 3197,\n",
       "         'bed': 2902,\n",
       "         'walk': 2817,\n",
       "         'pool': 2773,\n",
       "         'breakfast': 2705,\n",
       "         'peopl': 2515,\n",
       "         'realli': 2467,\n",
       "         'got': 2407,\n",
       "         'small': 2362,\n",
       "         'look': 2356,\n",
       "         'book': 2320,\n",
       "         'want': 2281,\n",
       "         'area': 2272,\n",
       "         'help': 2245,\n",
       "         'desk': 2172,\n",
       "         'littl': 2064,\n",
       "         'need': 2035,\n",
       "         'check': 2034,\n",
       "         'price': 2011,\n",
       "         'bathroom': 2001,\n",
       "         'make': 1978,\n",
       "         'ask': 1921,\n",
       "         'water': 1912,\n",
       "         'use': 1878,\n",
       "         'bar': 1863,\n",
       "         'friendli': 1840,\n",
       "         'thing': 1789,\n",
       "         'arriv': 1780,\n",
       "         'review': 1779,\n",
       "         'tri': 1775,\n",
       "         'view': 1765,\n",
       "         'trip': 1760,\n",
       "         'floor': 1758,\n",
       "         'expect': 1755,\n",
       "         'minut': 1725,\n",
       "         'went': 1720,\n",
       "         'lot': 1714,\n",
       "         'work': 1695,\n",
       "         'problem': 1691,\n",
       "         'love': 1671,\n",
       "         'better': 1655,\n",
       "         'best': 1643,\n",
       "         'recommend': 1622,\n",
       "         'say': 1605,\n",
       "         'bad': 1564,\n",
       "         'beauti': 1559,\n",
       "         'travel': 1543,\n",
       "         'hour': 1533,\n",
       "         'drink': 1501,\n",
       "         'way': 1485,\n",
       "         'park': 1473,\n",
       "         'told': 1460,\n",
       "         'experi': 1442,\n",
       "         'bit': 1438,\n",
       "         'comfort': 1427,\n",
       "         'return': 1391,\n",
       "         'right': 1375,\n",
       "         'lobbi': 1342,\n",
       "         'enjoy': 1334,\n",
       "         'star': 1330,\n",
       "         'close': 1325,\n",
       "         'door': 1309,\n",
       "         'noth': 1306,\n",
       "         'reserv': 1303,\n",
       "         'free': 1296,\n",
       "         'away': 1295,\n",
       "         'buffet': 1291,\n",
       "         'street': 1287,\n",
       "         'new': 1277,\n",
       "         'wait': 1267,\n",
       "         'morn': 1253,\n",
       "         'excel': 1242,\n",
       "         'think': 1230,\n",
       "         'guest': 1230,\n",
       "         'go': 1210,\n",
       "         'quit': 1200,\n",
       "         'old': 1197,\n",
       "         'come': 1178,\n",
       "         'ok': 1177,\n",
       "         'week': 1168,\n",
       "         'pay': 1159,\n",
       "         'said': 1159,\n",
       "         'took': 1133,\n",
       "         'shower': 1122,\n",
       "         'vacat': 1113,\n",
       "         'rate': 1110,\n",
       "         'call': 1103,\n",
       "         'money': 1094,\n",
       "         'open': 1093,\n",
       "         'eat': 1075,\n",
       "         'wonder': 1059,\n",
       "         'year': 1053,\n",
       "         'manag': 1052,\n",
       "         'know': 1049,\n",
       "         'larg': 1042,\n",
       "         'shop': 1025,\n",
       "         'pretti': 1017,\n",
       "         'citi': 1014,\n",
       "         'feel': 1009,\n",
       "         'husband': 992,\n",
       "         'offer': 982,\n",
       "         'sure': 981,\n",
       "         'left': 977,\n",
       "         'towel': 976,\n",
       "         'busi': 969,\n",
       "         'big': 961,\n",
       "         'disappoint': 943,\n",
       "         'car': 939,\n",
       "         'charg': 925,\n",
       "         'end': 922,\n",
       "         'long': 921,\n",
       "         'nois': 913,\n",
       "         'airport': 909,\n",
       "         'visit': 901,\n",
       "         'coffe': 894,\n",
       "         'suit': 893,\n",
       "         'dinner': 892,\n",
       "         'get': 886,\n",
       "         'definit': 884,\n",
       "         'pm': 872,\n",
       "         'read': 861,\n",
       "         'hot': 860,\n",
       "         'kid': 852,\n",
       "         'includ': 850,\n",
       "         'differ': 847,\n",
       "         'coupl': 845,\n",
       "         'build': 844,\n",
       "         'worth': 843,\n",
       "         'th': 832,\n",
       "         'person': 831,\n",
       "         'avail': 830,\n",
       "         'felt': 826,\n",
       "         'fine': 825,\n",
       "         'overal': 822,\n",
       "         'block': 820,\n",
       "         'famili': 807,\n",
       "         'even': 800,\n",
       "         'san': 795,\n",
       "         'leav': 782,\n",
       "         'size': 772,\n",
       "         'outsid': 771,\n",
       "         'internet': 770,\n",
       "         'tip': 770,\n",
       "         'club': 767,\n",
       "         'earli': 760,\n",
       "         'thought': 759,\n",
       "         'chang': 757,\n",
       "         'came': 755,\n",
       "         'request': 741,\n",
       "         'sleep': 739,\n",
       "         'reason': 739,\n",
       "         'main': 733,\n",
       "         'far': 723,\n",
       "         'paid': 721,\n",
       "         'air': 721,\n",
       "         'expens': 713,\n",
       "         'extra': 706,\n",
       "         'standard': 704,\n",
       "         'home': 704,\n",
       "         'care': 703,\n",
       "         'window': 691,\n",
       "         'recept': 689,\n",
       "         'order': 679,\n",
       "         'start': 676,\n",
       "         'quiet': 666,\n",
       "         'properti': 665,\n",
       "         'wall': 663,\n",
       "         'probabl': 661,\n",
       "         'tv': 657,\n",
       "         'smell': 656,\n",
       "         'choic': 656,\n",
       "         'extrem': 637,\n",
       "         'deal': 634,\n",
       "         'averag': 631,\n",
       "         'let': 630,\n",
       "         'speak': 630,\n",
       "         'perfect': 621,\n",
       "         'chair': 611,\n",
       "         'actual': 609,\n",
       "         'near': 605,\n",
       "         'hard': 604,\n",
       "         'serv': 599,\n",
       "         'run': 599,\n",
       "         'ground': 597,\n",
       "         'turn': 593,\n",
       "         'conveni': 589,\n",
       "         'relax': 587,\n",
       "         'access': 587,\n",
       "         'tour': 586,\n",
       "         'provid': 586,\n",
       "         'given': 585,\n",
       "         'fun': 579,\n",
       "         'second': 578,\n",
       "         'abl': 577,\n",
       "         'valu': 576,\n",
       "         'bring': 576,\n",
       "         'ocean': 574,\n",
       "         'decor': 572,\n",
       "         'english': 571,\n",
       "         'cana': 571,\n",
       "         'punta': 570,\n",
       "         'late': 569,\n",
       "         'light': 565,\n",
       "         'ca': 565,\n",
       "         'qualiti': 563,\n",
       "         'point': 558,\n",
       "         'easi': 557,\n",
       "         'upgrad': 557,\n",
       "         'basic': 554,\n",
       "         'safe': 552,\n",
       "         'spend': 550,\n",
       "         'bu': 547,\n",
       "         'high': 545,\n",
       "         'line': 545,\n",
       "         'especi': 544,\n",
       "         'elev': 543,\n",
       "         'short': 541,\n",
       "         'card': 539,\n",
       "         'lunch': 539,\n",
       "         'decent': 533,\n",
       "         'plenti': 533,\n",
       "         'huge': 528,\n",
       "         'friend': 527,\n",
       "         'gave': 525,\n",
       "         'weekend': 522,\n",
       "         'cost': 520,\n",
       "         'seattl': 520,\n",
       "         'final': 519,\n",
       "         'inn': 518,\n",
       "         'wine': 516,\n",
       "         'rude': 515,\n",
       "         'stop': 514,\n",
       "         'local': 512,\n",
       "         'spent': 511,\n",
       "         'terribl': 509,\n",
       "         'bottl': 507,\n",
       "         'squar': 506,\n",
       "         'station': 505,\n",
       "         'later': 504,\n",
       "         'complain': 500,\n",
       "         'pleasant': 498,\n",
       "         'flight': 498,\n",
       "         'complaint': 497,\n",
       "         'housekeep': 496,\n",
       "         'decid': 496,\n",
       "         'space': 493,\n",
       "         'dirti': 487,\n",
       "         'worst': 487,\n",
       "         'island': 487,\n",
       "         'sit': 486,\n",
       "         'la': 484,\n",
       "         'tabl': 483,\n",
       "         'wife': 483,\n",
       "         'gener': 481,\n",
       "         'hear': 480,\n",
       "         'fantast': 479,\n",
       "         'poor': 478,\n",
       "         'amaz': 478,\n",
       "         'tell': 478,\n",
       "         'french': 477,\n",
       "         'saw': 475,\n",
       "         'absolut': 475,\n",
       "         'checkin': 474,\n",
       "         'cold': 474,\n",
       "         'phone': 472,\n",
       "         'luggag': 472,\n",
       "         'special': 471,\n",
       "         'shuttl': 471,\n",
       "         'bag': 470,\n",
       "         'distanc': 469,\n",
       "         'noisi': 468,\n",
       "         'live': 467,\n",
       "         'concierg': 467,\n",
       "         'kept': 465,\n",
       "         'issu': 460,\n",
       "         'ride': 459,\n",
       "         'condit': 457,\n",
       "         'loung': 457,\n",
       "         'doubl': 456,\n",
       "         'ate': 453,\n",
       "         'happi': 450,\n",
       "         'meal': 450,\n",
       "         'readi': 449,\n",
       "         'group': 449,\n",
       "         'spanish': 449,\n",
       "         'plu': 444,\n",
       "         'plan': 443,\n",
       "         'impress': 440,\n",
       "         'horribl': 440,\n",
       "         'take': 436,\n",
       "         'holiday': 435,\n",
       "         'custom': 432,\n",
       "         'fact': 431,\n",
       "         'show': 430,\n",
       "         'surpris': 430,\n",
       "         'complet': 428,\n",
       "         'st': 427,\n",
       "         'pick': 425,\n",
       "         'central': 425,\n",
       "         'set': 423,\n",
       "         'consid': 417,\n",
       "         'okay': 417,\n",
       "         'children': 415,\n",
       "         'sheet': 415,\n",
       "         'mention': 414,\n",
       "         'cours': 413,\n",
       "         'site': 412,\n",
       "         'tini': 411,\n",
       "         'american': 411,\n",
       "         'amen': 410,\n",
       "         'face': 408,\n",
       "         'activ': 406,\n",
       "         'fresh': 405,\n",
       "         'downtown': 403,\n",
       "         'usual': 403,\n",
       "         'inform': 403,\n",
       "         'spaciou': 400,\n",
       "         'king': 400,\n",
       "         'miss': 400,\n",
       "         'ye': 399,\n",
       "         'didnt': 397,\n",
       "         'receiv': 397,\n",
       "         'center': 395,\n",
       "         'maid': 394,\n",
       "         'sick': 394,\n",
       "         'facil': 391,\n",
       "         'min': 391,\n",
       "         'toilet': 391,\n",
       "         'dominican': 391,\n",
       "         'lack': 390,\n",
       "         'head': 390,\n",
       "         'juan': 389,\n",
       "         'luxuri': 388,\n",
       "         'kind': 388,\n",
       "         'balconi': 388,\n",
       "         'taxi': 388,\n",
       "         'key': 387,\n",
       "         'train': 385,\n",
       "         'bath': 384,\n",
       "         'cheap': 383,\n",
       "         'fruit': 383,\n",
       "         'websit': 381,\n",
       "         'entertain': 378,\n",
       "         'warm': 378,\n",
       "         'market': 378,\n",
       "         'euro': 373,\n",
       "         'rest': 373,\n",
       "         'move': 372,\n",
       "         'ac': 372,\n",
       "         'fix': 371,\n",
       "         'mind': 369,\n",
       "         'swim': 369,\n",
       "         'entir': 368,\n",
       "         'thank': 366,\n",
       "         'happen': 365,\n",
       "         'smoke': 362,\n",
       "         'note': 361,\n",
       "         'notic': 360,\n",
       "         'renov': 360,\n",
       "         'twice': 359,\n",
       "         'level': 359,\n",
       "         'half': 358,\n",
       "         'tast': 357,\n",
       "         'mayb': 357,\n",
       "         'talk': 355,\n",
       "         'highli': 354,\n",
       "         'real': 354,\n",
       "         'loud': 354,\n",
       "         'total': 353,\n",
       "         'nearbi': 351,\n",
       "         'pillow': 351,\n",
       "         'parti': 346,\n",
       "         'casino': 344,\n",
       "         'hous': 344,\n",
       "         'hand': 343,\n",
       "         'tourist': 341,\n",
       "         'modern': 341,\n",
       "         'guy': 340,\n",
       "         'music': 339,\n",
       "         'certainli': 338,\n",
       "         'hope': 338,\n",
       "         'believ': 338,\n",
       "         'carpet': 337,\n",
       "         'bug': 337,\n",
       "         'town': 336,\n",
       "         'watch': 336,\n",
       "         'major': 336,\n",
       "         'understand': 336,\n",
       "         'seen': 335,\n",
       "         'posit': 333,\n",
       "         'francisco': 333,\n",
       "         'bother': 332,\n",
       "         'unless': 331,\n",
       "         'mean': 330,\n",
       "         'cool': 328,\n",
       "         'store': 328,\n",
       "         'dollar': 328,\n",
       "         'pictur': 327,\n",
       "         'royal': 326,\n",
       "         'option': 325,\n",
       "         'number': 325,\n",
       "         'crowd': 324,\n",
       "         'spa': 322,\n",
       "         'orlean': 322,\n",
       "         'wrong': 322,\n",
       "         'suggest': 320,\n",
       "         'heard': 318,\n",
       "         'drive': 317,\n",
       "         'cart': 316,\n",
       "         'road': 314,\n",
       "         'tub': 313,\n",
       "         'one': 313,\n",
       "         'el': 312,\n",
       "         'guess': 312,\n",
       "         'singl': 312,\n",
       "         'italian': 312,\n",
       "         'recent': 311,\n",
       "         'broken': 307,\n",
       "         'instead': 306,\n",
       "         'select': 303,\n",
       "         'bavaro': 303,\n",
       "         'neg': 303,\n",
       "         'complimentari': 302,\n",
       "         'state': 302,\n",
       "         'corner': 302,\n",
       "         'welcom': 300,\n",
       "         'play': 299,\n",
       "         'attract': 298,\n",
       "         'quick': 298,\n",
       "         'addit': 298,\n",
       "         'stain': 296,\n",
       "         'glass': 295,\n",
       "         'member': 295,\n",
       "         'avoid': 295,\n",
       "         'dark': 294,\n",
       "         'secur': 292,\n",
       "         'dont': 292,\n",
       "         'spoke': 292,\n",
       "         'taken': 291,\n",
       "         'type': 290,\n",
       "         'save': 290,\n",
       "         'wed': 288,\n",
       "         'palac': 288,\n",
       "         'garden': 288,\n",
       "         'spot': 287,\n",
       "         'base': 287,\n",
       "         'except': 287,\n",
       "         'choos': 287,\n",
       "         'world': 286,\n",
       "         'met': 285,\n",
       "         'dine': 284,\n",
       "         'sun': 284,\n",
       "         'snack': 280,\n",
       "         'sign': 280,\n",
       "         'cab': 280,\n",
       "         'prepar': 279,\n",
       "         'appear': 279,\n",
       "         'allow': 278,\n",
       "         'overpr': 277,\n",
       "         'valet': 277,\n",
       "         'charm': 276,\n",
       "         'packag': 276,\n",
       "         'slow': 276,\n",
       "         'aw': 275,\n",
       "         'meet': 274,\n",
       "         'credit': 274,\n",
       "         'despit': 273,\n",
       "         'compar': 272,\n",
       "         'bedroom': 272,\n",
       "         'union': 271,\n",
       "         'sound': 271,\n",
       "         'month': 271,\n",
       "         'rain': 271,\n",
       "         'beer': 270,\n",
       "         'brought': 270,\n",
       "         'email': 269,\n",
       "         'touch': 269,\n",
       "         'tire': 269,\n",
       "         'past': 269,\n",
       "         'limit': 268,\n",
       "         'annoy': 268,\n",
       "         'direct': 268,\n",
       "         'countri': 267,\n",
       "         'employe': 267,\n",
       "         'knew': 267,\n",
       "         'cafe': 267,\n",
       "         'attent': 266,\n",
       "         'ice': 265,\n",
       "         'treat': 265,\n",
       "         'pass': 265,\n",
       "         'hilton': 264,\n",
       "         'rememb': 264,\n",
       "         'immedi': 264,\n",
       "         'suppos': 264,\n",
       "         'confirm': 264,\n",
       "         'buy': 264,\n",
       "         'weather': 264,\n",
       "         'golf': 263,\n",
       "         'accomod': 262,\n",
       "         'chose': 262,\n",
       "         'grill': 262,\n",
       "         'carib': 260,\n",
       "         'overlook': 259,\n",
       "         'furnitur': 259,\n",
       "         'previou': 259,\n",
       "         'daughter': 259,\n",
       "         'ritz': 258,\n",
       "         'quarter': 257,\n",
       "         'menu': 257,\n",
       "         'adequ': 255,\n",
       "         'wish': 254,\n",
       "         'seat': 254,\n",
       "         'fridg': 253,\n",
       "         'afternoon': 252,\n",
       "         'tropic': 252,\n",
       "         'job': 250,\n",
       "         'situat': 249,\n",
       "         'white': 248,\n",
       "         'construct': 247,\n",
       "         'accommod': 247,\n",
       "         'concern': 246,\n",
       "         'boat': 246,\n",
       "         'smile': 246,\n",
       "         'everyth': 246,\n",
       "         'middl': 245,\n",
       "         'item': 245,\n",
       "         'date': 244,\n",
       "         'daili': 243,\n",
       "         'public': 243,\n",
       "         'truli': 243,\n",
       "         'waikiki': 243,\n",
       "         'incred': 242,\n",
       "         'nicer': 241,\n",
       "         'greet': 240,\n",
       "         'fairli': 240,\n",
       "         'smaller': 240,\n",
       "         'agre': 238,\n",
       "         'unfortun': 238,\n",
       "         'sand': 237,\n",
       "         'fabul': 237,\n",
       "         'tea': 236,\n",
       "         'son': 236,\n",
       "         'transport': 236,\n",
       "         'question': 236,\n",
       "         'wo': 235,\n",
       "         'budget': 234,\n",
       "         'share': 234,\n",
       "         'chees': 233,\n",
       "         'machin': 231,\n",
       "         'melia': 231,\n",
       "         'rent': 230,\n",
       "         'westin': 229,\n",
       "         'interest': 229,\n",
       "         'possibl': 228,\n",
       "         'style': 228,\n",
       "         'boston': 228,\n",
       "         'comment': 227,\n",
       "         'follow': 227,\n",
       "         'insid': 227,\n",
       "         'step': 227,\n",
       "         'puerto': 227,\n",
       "         'alot': 227,\n",
       "         'grand': 227,\n",
       "         'low': 225,\n",
       "         'stand': 225,\n",
       "         'privat': 225,\n",
       "         'matter': 225,\n",
       "         'honeymoon': 225,\n",
       "         'cloth': 223,\n",
       "         'w': 223,\n",
       "         'steak': 223,\n",
       "         'fit': 223,\n",
       "         'heat': 221,\n",
       "         'amsterdam': 221,\n",
       "         'courtyard': 220,\n",
       "         'cruis': 220,\n",
       "         'york': 219,\n",
       "         'connect': 218,\n",
       "         'clear': 218,\n",
       "         'polit': 218,\n",
       "         'case': 217,\n",
       "         'closet': 216,\n",
       "         'hallway': 216,\n",
       "         'true': 215,\n",
       "         'tower': 215,\n",
       "         'awesom': 214,\n",
       "         'age': 214,\n",
       "         'none': 214,\n",
       "         'fee': 213,\n",
       "         'centr': 212,\n",
       "         'young': 212,\n",
       "         'cover': 212,\n",
       "         'advis': 211,\n",
       "         'princess': 211,\n",
       "         'gym': 211,\n",
       "         'cabl': 210,\n",
       "         'longer': 210,\n",
       "         'simpli': 209,\n",
       "         'adult': 209,\n",
       "         'directli': 209,\n",
       "         'quickli': 209,\n",
       "         'ladi': 208,\n",
       "         'stuff': 207,\n",
       "         'pizza': 207,\n",
       "         'gorgeou': 207,\n",
       "         'normal': 207,\n",
       "         'bartend': 207,\n",
       "         'rd': 206,\n",
       "         'prefer': 206,\n",
       "         'appl': 206,\n",
       "         'waiter': 205,\n",
       "         'continent': 204,\n",
       "         'mix': 202,\n",
       "         'mini': 201,\n",
       "         'nd': 201,\n",
       "         'egg': 201,\n",
       "         'fish': 200,\n",
       "         'juic': 200,\n",
       "         'man': 200,\n",
       "         'accept': 200,\n",
       "         'atmospher': 199,\n",
       "         'wors': 199,\n",
       "         'hospit': 199,\n",
       "         'list': 199,\n",
       "         'sort': 199,\n",
       "         'life': 198,\n",
       "         'stair': 198,\n",
       "         'sink': 197,\n",
       "         'tram': 195,\n",
       "         'barcelona': 195,\n",
       "         'varieti': 194,\n",
       "         'european': 194,\n",
       "         'difficult': 194,\n",
       "         'excurs': 194,\n",
       "         'clerk': 194,\n",
       "         'design': 193,\n",
       "         'inclus': 193,\n",
       "         'japanes': 193,\n",
       "         'confer': 192,\n",
       "         'break': 192,\n",
       "         'bare': 192,\n",
       "         'word': 191,\n",
       "         'lock': 191,\n",
       "         'goe': 191,\n",
       "         'updat': 190,\n",
       "         'hang': 190,\n",
       "         'write': 190,\n",
       "         'agent': 190,\n",
       "         'everyday': 190,\n",
       "         'soon': 189,\n",
       "         'drop': 189,\n",
       "         'oh': 188,\n",
       "         'worri': 188,\n",
       "         'forget': 188,\n",
       "         'contact': 188,\n",
       "         'particularli': 187,\n",
       "         'driver': 187,\n",
       "         'languag': 186,\n",
       "         'checkout': 185,\n",
       "         'cancel': 185,\n",
       "         'riu': 185,\n",
       "         'boyfriend': 184,\n",
       "         'paint': 184,\n",
       "         'cook': 184,\n",
       "         'typic': 183,\n",
       "         'beat': 183,\n",
       "         'maintain': 183,\n",
       "         'ceil': 182,\n",
       "         'chain': 182,\n",
       "         'plaza': 182,\n",
       "         'compani': 182,\n",
       "         'girl': 182,\n",
       "         'sent': 182,\n",
       "         'traffic': 182,\n",
       "         'older': 181,\n",
       "         'larger': 180,\n",
       "         'onlin': 180,\n",
       "         'marriott': 180,\n",
       "         'pack': 179,\n",
       "         'didnçé': 179,\n",
       "         'queen': 179,\n",
       "         'seafood': 179,\n",
       "         'ago': 178,\n",
       "         'bread': 178,\n",
       "         'requir': 178,\n",
       "         'rico': 178,\n",
       "         'caribbean': 177,\n",
       "         'enter': 177,\n",
       "         'board': 177,\n",
       "         'apart': 177,\n",
       "         'season': 177,\n",
       "         'massag': 176,\n",
       "         'attend': 176,\n",
       "         'improv': 176,\n",
       "         'super': 176,\n",
       "         'effici': 175,\n",
       "         'fanci': 175,\n",
       "         'game': 175,\n",
       "         'outstand': 174,\n",
       "         'warn': 174,\n",
       "         'us': 173,\n",
       "         'profession': 173,\n",
       "         'appar': 173,\n",
       "         'separ': 173,\n",
       "         'attitud': 173,\n",
       "         'give': 172,\n",
       "         'paper': 172,\n",
       "         'appreci': 172,\n",
       "         'fan': 172,\n",
       "         'linen': 171,\n",
       "         'answer': 171,\n",
       "         'lost': 170,\n",
       "         'favorit': 170,\n",
       "         'pressur': 170,\n",
       "         'post': 170,\n",
       "         'idea': 169,\n",
       "         'somewhat': 169,\n",
       "         'bewar': 169,\n",
       "         'hall': 168,\n",
       "         'higher': 168,\n",
       "         'fair': 167,\n",
       "         'respons': 167,\n",
       "         'present': 167,\n",
       "         'mexican': 167,\n",
       "         'snorkel': 167,\n",
       "         'hair': 166,\n",
       "         'fast': 165,\n",
       "         'easili': 165,\n",
       "         'metro': 164,\n",
       "         'lift': 164,\n",
       "         'explain': 164,\n",
       "         'class': 164,\n",
       "         'defin': 164,\n",
       "         'entranc': 163,\n",
       "         'gone': 163,\n",
       "         'furnish': 162,\n",
       "         'similar': 162,\n",
       "         'prior': 162,\n",
       "         'replac': 162,\n",
       "         'paradis': 161,\n",
       "         'deliv': 160,\n",
       "         'realiz': 160,\n",
       "         'wast': 160,\n",
       "         'outdat': 159,\n",
       "         'meat': 159,\n",
       "         'uncomfort': 159,\n",
       "         'explor': 158,\n",
       "         'juli': 158,\n",
       "         'cheaper': 158,\n",
       "         'pleas': 158,\n",
       "         'experienc': 158,\n",
       "         'opinion': 158,\n",
       "         'heart': 157,\n",
       "         'sf': 157,\n",
       "         'ignor': 157,\n",
       "         'wireless': 157,\n",
       "         'shade': 157,\n",
       "         'comfi': 156,\n",
       "         'equip': 156,\n",
       "         'iron': 156,\n",
       "         'boutiqu': 156,\n",
       "         'troubl': 155,\n",
       "         'slightli': 155,\n",
       "         'assist': 155,\n",
       "         'garag': 155,\n",
       "         'advanc': 155,\n",
       "         'figur': 155,\n",
       "         'fault': 154,\n",
       "         'imagin': 154,\n",
       "         'section': 154,\n",
       "         'advic': 154,\n",
       "         'fli': 154,\n",
       "         'cup': 153,\n",
       "         'worn': 153,\n",
       "         'delici': 153,\n",
       "         'delux': 152,\n",
       "         'fri': 152,\n",
       "         'gift': 152,\n",
       "         'downstair': 152,\n",
       "         'saturday': 152,\n",
       "         'exactli': 152,\n",
       "         'mile': 152,\n",
       "         'march': 151,\n",
       "         'report': 151,\n",
       "         'feet': 151,\n",
       "         'pricey': 151,\n",
       "         'soft': 151,\n",
       "         'slept': 150,\n",
       "         'surround': 150,\n",
       "         'pull': 149,\n",
       "         'begin': 149,\n",
       "         'pike': 149,\n",
       "         'sell': 149,\n",
       "         'minibar': 148,\n",
       "         'motel': 148,\n",
       "         'stock': 148,\n",
       "         'obvious': 147,\n",
       "         'origin': 147,\n",
       "         'liter': 147,\n",
       "         'dr': 147,\n",
       "         'screen': 146,\n",
       "         'paradisu': 146,\n",
       "         'advertis': 145,\n",
       "         'district': 145,\n",
       "         'earlier': 145,\n",
       "         'flat': 145,\n",
       "         'regular': 145,\n",
       "         'import': 145,\n",
       "         'learn': 145,\n",
       "         'offic': 144,\n",
       "         'hit': 144,\n",
       "         'cereal': 144,\n",
       "         'wash': 143,\n",
       "         'find': 143,\n",
       "         'woman': 143,\n",
       "         'mark': 143,\n",
       "         'mexico': 143,\n",
       "         'curtain': 143,\n",
       "         'arrang': 142,\n",
       "         'glad': 142,\n",
       "         'june': 142,\n",
       "         'sister': 142,\n",
       "         'cooki': 141,\n",
       "         'bell': 141,\n",
       "         'chancellor': 141,\n",
       "         'sight': 140,\n",
       "         'ideal': 140,\n",
       "         'rang': 140,\n",
       "         'breez': 140,\n",
       "         'april': 139,\n",
       "         'north': 139,\n",
       "         'neighborhood': 139,\n",
       "         'claim': 139,\n",
       "         'wifi': 139,\n",
       "         'twin': 138,\n",
       "         'lower': 138,\n",
       "         'danc': 137,\n",
       "         'refus': 137,\n",
       "         'allinclus': 136,\n",
       "         'closer': 136,\n",
       "         'dish': 136,\n",
       "         'exampl': 136,\n",
       "         'add': 135,\n",
       "         'nyc': 135,\n",
       "         'tree': 135,\n",
       "         'awar': 135,\n",
       "         'catch': 134,\n",
       "         'mattress': 134,\n",
       "         'rental': 134,\n",
       "         'simpl': 134,\n",
       "         'clearli': 134,\n",
       "         'forward': 134,\n",
       "         'nearli': 133,\n",
       "         'convent': 133,\n",
       "         'roof': 133,\n",
       "         'sorri': 133,\n",
       "         'receptionist': 133,\n",
       "         'plane': 133,\n",
       "         'execut': 133,\n",
       "         'carri': 133,\n",
       "         'hill': 133,\n",
       "         'purchas': 132,\n",
       "         'cleanli': 132,\n",
       "         'bay': 131,\n",
       "         'sightse': 131,\n",
       "         'wear': 131,\n",
       "         'promis': 131,\n",
       "         'courteou': 131,\n",
       "         'multipl': 131,\n",
       "         'plate': 131,\n",
       "         'attempt': 131,\n",
       "         'eleg': 131,\n",
       "         'ad': 130,\n",
       "         'nonsmok': 130,\n",
       "         'stuck': 130,\n",
       "         'apolog': 130,\n",
       "         'roll': 130,\n",
       "         'wave': 130,\n",
       "         'commun': 130,\n",
       "         'kitchen': 129,\n",
       "         'salad': 129,\n",
       "         'see': 129,\n",
       "         'birthday': 129,\n",
       "         'sea': 129,\n",
       "         'could': 129,\n",
       "         'romant': 128,\n",
       "         'filthi': 128,\n",
       "         'cut': 128,\n",
       "         'bite': 128,\n",
       "         'luck': 128,\n",
       "         'blue': 128,\n",
       "         'tile': 127,\n",
       "         'subway': 127,\n",
       "         'unit': 127,\n",
       "         'tax': 127,\n",
       "         'alcohol': 127,\n",
       "         'friday': 127,\n",
       "         'red': 126,\n",
       "         'sunday': 126,\n",
       "         'flower': 126,\n",
       "         'rum': 126,\n",
       "         'disco': 126,\n",
       "         'encount': 126,\n",
       "         'frustrat': 126,\n",
       "         'spray': 126,\n",
       "         'jacuzzi': 125,\n",
       "         'casablanca': 125,\n",
       "         'joke': 125,\n",
       "         'bigger': 125,\n",
       "         'consist': 125,\n",
       "         'wasnt': 125,\n",
       "         'hate': 125,\n",
       "         'treatment': 124,\n",
       "         'discov': 124,\n",
       "         'hardli': 124,\n",
       "         'dress': 124,\n",
       "         'needl': 124,\n",
       "         'ran': 123,\n",
       "         'biggest': 123,\n",
       "         'chicken': 123,\n",
       "         'peac': 123,\n",
       "         'vip': 123,\n",
       "         'chocol': 123,\n",
       "         'pasta': 123,\n",
       "         'donçé': 122,\n",
       "         'appoint': 122,\n",
       "         'villa': 122,\n",
       "         'tripadvisor': 121,\n",
       "         'suitcas': 121,\n",
       "         'fill': 121,\n",
       "         'switch': 121,\n",
       "         'depend': 121,\n",
       "         'power': 121,\n",
       "         'hold': 121,\n",
       "         'rambla': 120,\n",
       "         'toiletri': 120,\n",
       "         'handl': 120,\n",
       "         'august': 120,\n",
       "         'folk': 120,\n",
       "         'fall': 120,\n",
       "         'ticket': 120,\n",
       "         'palm': 119,\n",
       "         'meant': 119,\n",
       "         'republ': 119,\n",
       "         'mediocr': 119,\n",
       "         'numer': 119,\n",
       "         'musti': 119,\n",
       "         'strong': 119,\n",
       "         'map': 118,\n",
       "         'itçé': 118,\n",
       "         'bargain': 118,\n",
       "         'intern': 118,\n",
       "         'art': 118,\n",
       "         'chanc': 118,\n",
       "         'temperatur': 118,\n",
       "         'upset': 117,\n",
       "         'continu': 117,\n",
       "         'advisor': 117,\n",
       "         'moment': 117,\n",
       "         'mold': 117,\n",
       "         'minor': 117,\n",
       "         'rep': 117,\n",
       "         'leak': 116,\n",
       "         'discount': 116,\n",
       "         'pastri': 116,\n",
       "         'variou': 116,\n",
       "         'chines': 116,\n",
       "         'wet': 115,\n",
       "         'control': 115,\n",
       "         'that': 115,\n",
       "         'send': 115,\n",
       "         'wake': 115,\n",
       "         'soap': 115,\n",
       "         'hyatt': 115,\n",
       "         'mosquito': 115,\n",
       "         'refriger': 114,\n",
       "         'channel': 114,\n",
       "         'oper': 114,\n",
       "         'finish': 114,\n",
       "         'anniversari': 114,\n",
       "         'outdoor': 114,\n",
       "         ...})"
      ]
     },
     "execution_count": 45,
     "metadata": {},
     "output_type": "execute_result"
    }
   ],
   "source": [
    "vocab"
   ]
  },
  {
   "cell_type": "code",
   "execution_count": 46,
   "id": "e04dae00-b70a-4685-b937-47847c86b20c",
   "metadata": {
    "ExecuteTime": {
     "end_time": "2024-12-22T11:49:17.804335Z",
     "start_time": "2024-12-22T11:49:17.796593Z"
    }
   },
   "outputs": [
    {
     "data": {
      "text/plain": [
       "30056"
      ]
     },
     "execution_count": 46,
     "metadata": {},
     "output_type": "execute_result"
    }
   ],
   "source": [
    "len(vocab)"
   ]
  },
  {
   "cell_type": "code",
   "execution_count": 47,
   "id": "d5b53074-bb3a-4eb8-97fd-659ae12b714d",
   "metadata": {
    "ExecuteTime": {
     "end_time": "2024-12-22T11:49:42.393197Z",
     "start_time": "2024-12-22T11:49:42.385115Z"
    }
   },
   "outputs": [
    {
     "data": {
      "text/plain": [
       "(7552, 3)"
      ]
     },
     "execution_count": 47,
     "metadata": {},
     "output_type": "execute_result"
    }
   ],
   "source": [
    "data.shape"
   ]
  },
  {
   "cell_type": "code",
   "execution_count": 48,
   "id": "cdd0e1db-0eea-4958-9f99-aa09d2f401a8",
   "metadata": {
    "ExecuteTime": {
     "end_time": "2024-12-22T11:53:51.083973Z",
     "start_time": "2024-12-22T11:53:51.059890Z"
    }
   },
   "outputs": [],
   "source": [
    "tokens = [key for key in vocab if vocab[key]>2]"
   ]
  },
  {
   "cell_type": "code",
   "execution_count": 49,
   "id": "5ad1dd67-8c1f-4608-99a1-32697bb9277d",
   "metadata": {
    "ExecuteTime": {
     "end_time": "2024-12-22T11:54:10.864601Z",
     "start_time": "2024-12-22T11:54:10.855703Z"
    }
   },
   "outputs": [
    {
     "data": {
      "text/plain": [
       "8518"
      ]
     },
     "execution_count": 49,
     "metadata": {},
     "output_type": "execute_result"
    }
   ],
   "source": [
    "len(tokens)"
   ]
  },
  {
   "cell_type": "code",
   "execution_count": 50,
   "id": "e4ad153d-e918-4899-99a7-9f77bf975a76",
   "metadata": {
    "ExecuteTime": {
     "end_time": "2024-12-22T13:21:38.822678Z",
     "start_time": "2024-12-22T13:21:38.742122Z"
    }
   },
   "outputs": [],
   "source": [
    "def save_vocabulary (lines, filename):\n",
    "    data = '\\n'.join(lines)\n",
    "    file= open(filename, 'w', encoding=\"utf-8\")\n",
    "    file.write(data)\n",
    "    file.close()\n",
    "    \n",
    "save_vocabulary(tokens, '../static/model/vocabulary.txt')"
   ]
  },
  {
   "cell_type": "code",
   "execution_count": 51,
   "id": "cdfedd4b-c708-4a30-ac40-af96efbc616b",
   "metadata": {},
   "outputs": [],
   "source": [
    "\n",
    "## Divide DataSet"
   ]
  },
  {
   "cell_type": "code",
   "execution_count": null,
   "id": "658af0b5-f3f0-4c1d-9053-182582185e5b",
   "metadata": {},
   "outputs": [],
   "source": []
  },
  {
   "cell_type": "code",
   "execution_count": 52,
   "id": "4394b710-8329-4061-ba16-fa4dd48b46f7",
   "metadata": {
    "ExecuteTime": {
     "end_time": "2024-12-22T13:24:57.217351Z",
     "start_time": "2024-12-22T13:24:57.212951Z"
    }
   },
   "outputs": [],
   "source": [
    "x = data['tweet']\n",
    "y = data['label']"
   ]
  },
  {
   "cell_type": "code",
   "execution_count": 53,
   "id": "a0900dde-ba00-4182-9be4-976bc3a26934",
   "metadata": {
    "ExecuteTime": {
     "start_time": "2024-12-22T13:28:28.256929Z"
    },
    "jupyter": {
     "is_executing": true
    }
   },
   "outputs": [
    {
     "name": "stdout",
     "output_type": "stream",
     "text": [
      "Requirement already satisfied: scikit-learn in d:\\movies\\yb_ml_help\\sentiment_analysis_project\\env\\lib\\site-packages (1.6.0)\n",
      "Requirement already satisfied: numpy>=1.19.5 in d:\\movies\\yb_ml_help\\sentiment_analysis_project\\env\\lib\\site-packages (from scikit-learn) (2.0.2)\n",
      "Requirement already satisfied: scipy>=1.6.0 in d:\\movies\\yb_ml_help\\sentiment_analysis_project\\env\\lib\\site-packages (from scikit-learn) (1.14.1)\n",
      "Requirement already satisfied: joblib>=1.2.0 in d:\\movies\\yb_ml_help\\sentiment_analysis_project\\env\\lib\\site-packages (from scikit-learn) (1.4.2)\n",
      "Requirement already satisfied: threadpoolctl>=3.1.0 in d:\\movies\\yb_ml_help\\sentiment_analysis_project\\env\\lib\\site-packages (from scikit-learn) (3.5.0)\n"
     ]
    }
   ],
   "source": [
    "!pip install scikit-learn"
   ]
  },
  {
   "cell_type": "code",
   "execution_count": 54,
   "id": "d552b715-a23f-4330-9346-87442f8bc67d",
   "metadata": {
    "ExecuteTime": {
     "end_time": "2024-12-22T13:35:46.864985Z",
     "start_time": "2024-12-22T13:35:46.848980Z"
    }
   },
   "outputs": [],
   "source": [
    "from sklearn.model_selection import train_test_split\n",
    "x_train, x_test, y_train, y_test = train_test_split(x, y, test_size=0.2)"
   ]
  },
  {
   "cell_type": "code",
   "execution_count": 55,
   "id": "8a5fc918-665e-4fd0-801b-a0d8999be0d2",
   "metadata": {
    "ExecuteTime": {
     "end_time": "2024-12-22T13:36:06.002988Z",
     "start_time": "2024-12-22T13:36:05.994981Z"
    }
   },
   "outputs": [
    {
     "data": {
      "text/plain": [
       "(6041,)"
      ]
     },
     "execution_count": 55,
     "metadata": {},
     "output_type": "execute_result"
    }
   ],
   "source": [
    "x_train.shape"
   ]
  },
  {
   "cell_type": "code",
   "execution_count": 56,
   "id": "959fac78-0f6e-4f61-84a2-cbe0c51e95ae",
   "metadata": {
    "ExecuteTime": {
     "end_time": "2024-12-22T13:37:56.082800Z",
     "start_time": "2024-12-22T13:37:56.075459Z"
    }
   },
   "outputs": [
    {
     "data": {
      "text/plain": [
       "(1511,)"
      ]
     },
     "execution_count": 56,
     "metadata": {},
     "output_type": "execute_result"
    }
   ],
   "source": [
    "x_test.shape"
   ]
  },
  {
   "cell_type": "code",
   "execution_count": 57,
   "id": "c5213dd1-3f2f-4b67-98a9-31e4d93f4de1",
   "metadata": {},
   "outputs": [],
   "source": [
    "## Vectorization"
   ]
  },
  {
   "cell_type": "code",
   "execution_count": 58,
   "id": "ae1a116c-73d7-4bce-8125-14432ab9f79a",
   "metadata": {
    "ExecuteTime": {
     "end_time": "2024-12-22T13:47:14.137380Z",
     "start_time": "2024-12-22T13:47:14.129404Z"
    }
   },
   "outputs": [],
   "source": [
    "def vectorizer(ds, vocabulary):\n",
    "    vectorized_1st = []\n",
    "    \n",
    "    for sentence in ds:\n",
    "        sentence_lst = np.zeros(len (vocabulary))\n",
    "        for i in range(len(vocabulary)):\n",
    "            if vocabulary[i] in sentence.split():\n",
    "                sentence_lst[i] = 1\n",
    "                \n",
    "        vectorized_1st.append(sentence_lst)\n",
    "        \n",
    "    vectorized_1st_new = np.asarray(vectorized_1st, dtype=np.float32)\n",
    "    return vectorized_1st_new"
   ]
  },
  {
   "cell_type": "code",
   "execution_count": 59,
   "id": "d8a64173-c207-49e6-b1ce-8e70f5c22691",
   "metadata": {
    "ExecuteTime": {
     "end_time": "2024-12-22T15:43:12.614230Z",
     "start_time": "2024-12-22T15:43:08.373838Z"
    }
   },
   "outputs": [],
   "source": [
    "vectorized_x_train = vectorizer(x_train, tokens)"
   ]
  },
  {
   "cell_type": "code",
   "execution_count": 60,
   "id": "9cfb9fec-a5b3-4701-baeb-a40b5aee6466",
   "metadata": {
    "ExecuteTime": {
     "end_time": "2024-12-22T15:43:14.159423Z",
     "start_time": "2024-12-22T15:43:14.149402Z"
    }
   },
   "outputs": [
    {
     "name": "stdout",
     "output_type": "stream",
     "text": [
      "1111111111111\n"
     ]
    }
   ],
   "source": [
    "#for i in vectorized_x_train[0]:\n",
    "print(\"1111111111111\")"
   ]
  },
  {
   "cell_type": "code",
   "execution_count": 61,
   "id": "3649fb7c-3aec-482d-ab3b-1c89627f9239",
   "metadata": {
    "ExecuteTime": {
     "end_time": "2024-12-22T15:43:43.563417Z",
     "start_time": "2024-12-22T15:43:42.654664Z"
    }
   },
   "outputs": [],
   "source": [
    "vectorized_x_test = vectorizer(x_test, tokens)"
   ]
  },
  {
   "cell_type": "code",
   "execution_count": 62,
   "id": "91a101ff-d21a-4c06-a858-7b315389b501",
   "metadata": {
    "ExecuteTime": {
     "end_time": "2024-12-22T15:43:45.444976Z",
     "start_time": "2024-12-22T15:43:45.432511Z"
    }
   },
   "outputs": [
    {
     "name": "stdout",
     "output_type": "stream",
     "text": [
      "aaaaaaaaaaaaaaaaaaaaaaaaaaaaaaaaaaaa\n"
     ]
    }
   ],
   "source": [
    "#for i in vectorized_x_test[0]:\n",
    "print(\"aaaaaaaaaaaaaaaaaaaaaaaaaaaaaaaaaaaa\")"
   ]
  },
  {
   "cell_type": "code",
   "execution_count": 63,
   "id": "ef4af480-8888-469b-9344-5b9693645ced",
   "metadata": {
    "ExecuteTime": {
     "end_time": "2024-12-22T15:46:41.049063Z",
     "start_time": "2024-12-22T15:46:41.021058Z"
    }
   },
   "outputs": [
    {
     "data": {
      "text/plain": [
       "label\n",
       "2    2017\n",
       "1    2014\n",
       "0    2010\n",
       "Name: count, dtype: int64"
      ]
     },
     "execution_count": 63,
     "metadata": {},
     "output_type": "execute_result"
    }
   ],
   "source": [
    "y_train.value_counts()\n"
   ]
  },
  {
   "cell_type": "code",
   "execution_count": 64,
   "id": "862422c5-8e35-465d-97e4-26e65417363e",
   "metadata": {
    "ExecuteTime": {
     "end_time": "2024-12-22T15:49:53.219694Z",
     "start_time": "2024-12-22T15:49:52.739977Z"
    }
   },
   "outputs": [
    {
     "data": {
      "image/png": "[encoded data removed]",
      "text/plain": [
       "<Figure size 640x480 with 1 Axes>"
      ]
     },
     "metadata": {},
     "output_type": "display_data"
    }
   ],
   "source": [
    "plt.pie(np.array([y_train.value_counts()[0], y_train.value_counts()[1],y_train.value_counts()[2]]), labels=['Negative', 'Neutral','Positive'])\n",
    "plt.show()"
   ]
  },
  {
   "cell_type": "code",
   "execution_count": 65,
   "id": "dc71b0a4-50f0-4cd2-b587-6385936e64c2",
   "metadata": {},
   "outputs": [],
   "source": [
    "## Handle Imbalanced dataset"
   ]
  },
  {
   "cell_type": "code",
   "execution_count": 66,
   "id": "e0bfcd9d-d6be-4723-9452-b23a445c4983",
   "metadata": {
    "ExecuteTime": {
     "end_time": "2024-12-22T15:54:32.194496Z",
     "start_time": "2024-12-22T15:54:25.628738Z"
    }
   },
   "outputs": [
    {
     "name": "stdout",
     "output_type": "stream",
     "text": [
      "Requirement already satisfied: imbalanced-learn in d:\\movies\\yb_ml_help\\sentiment_analysis_project\\env\\lib\\site-packages (0.13.0)\n",
      "Requirement already satisfied: numpy<3,>=1.24.3 in d:\\movies\\yb_ml_help\\sentiment_analysis_project\\env\\lib\\site-packages (from imbalanced-learn) (2.0.2)\n",
      "Requirement already satisfied: scipy<2,>=1.10.1 in d:\\movies\\yb_ml_help\\sentiment_analysis_project\\env\\lib\\site-packages (from imbalanced-learn) (1.14.1)\n",
      "Requirement already satisfied: scikit-learn<2,>=1.3.2 in d:\\movies\\yb_ml_help\\sentiment_analysis_project\\env\\lib\\site-packages (from imbalanced-learn) (1.6.0)\n",
      "Requirement already satisfied: sklearn-compat<1,>=0.1 in d:\\movies\\yb_ml_help\\sentiment_analysis_project\\env\\lib\\site-packages (from imbalanced-learn) (0.1.3)\n",
      "Requirement already satisfied: joblib<2,>=1.1.1 in d:\\movies\\yb_ml_help\\sentiment_analysis_project\\env\\lib\\site-packages (from imbalanced-learn) (1.4.2)\n",
      "Requirement already satisfied: threadpoolctl<4,>=2.0.0 in d:\\movies\\yb_ml_help\\sentiment_analysis_project\\env\\lib\\site-packages (from imbalanced-learn) (3.5.0)\n"
     ]
    }
   ],
   "source": [
    "!pip install imbalanced-learn"
   ]
  },
  {
   "cell_type": "code",
   "execution_count": 67,
   "id": "12d4e18e-6b7a-4f82-aa15-88f8c13e75e6",
   "metadata": {
    "ExecuteTime": {
     "end_time": "2024-12-22T15:55:32.158997Z",
     "start_time": "2024-12-22T15:55:31.544368Z"
    }
   },
   "outputs": [
    {
     "name": "stdout",
     "output_type": "stream",
     "text": [
      "(6051, 8518) (6051,)\n"
     ]
    }
   ],
   "source": [
    "from imblearn.over_sampling import SMOTE\n",
    "smote = SMOTE()\n",
    "vectorized_x_train_smote, y_train_smote = smote.fit_resample(vectorized_x_train, y_train)\n",
    "print(vectorized_x_train_smote.shape, y_train_smote.shape)"
   ]
  },
  {
   "cell_type": "code",
   "execution_count": 68,
   "id": "7e7f4bc7-945b-4dae-99b9-4cebf6d3478c",
   "metadata": {
    "ExecuteTime": {
     "end_time": "2024-12-22T15:56:27.931438Z",
     "start_time": "2024-12-22T15:56:27.921434Z"
    }
   },
   "outputs": [
    {
     "data": {
      "text/plain": [
       "label\n",
       "2    2017\n",
       "1    2017\n",
       "0    2017\n",
       "Name: count, dtype: int64"
      ]
     },
     "execution_count": 68,
     "metadata": {},
     "output_type": "execute_result"
    }
   ],
   "source": [
    "y_train_smote.value_counts()"
   ]
  },
  {
   "cell_type": "code",
   "execution_count": 69,
   "id": "ee7d6f4b-1cdc-4c4a-8116-c2397e9cdb28",
   "metadata": {
    "ExecuteTime": {
     "end_time": "2024-12-22T15:57:45.984778Z",
     "start_time": "2024-12-22T15:57:45.924025Z"
    }
   },
   "outputs": [
    {
     "data": {
      "image/png": "[encoded data removed]",
      "text/plain": [
       "<Figure size 640x480 with 1 Axes>"
      ]
     },
     "metadata": {},
     "output_type": "display_data"
    }
   ],
   "source": [
    "plt.pie(np.array([y_train_smote.value_counts()[0], y_train_smote.value_counts()[1],y_train_smote.value_counts()[2]]), labels=['Negative', 'Neutral','Positive'])\n",
    "plt.show()"
   ]
  },
  {
   "cell_type": "code",
   "execution_count": 70,
   "id": "25a6f9af-9485-4359-9734-7eb3bb445d87",
   "metadata": {
    "ExecuteTime": {
     "end_time": "2024-12-22T15:58:57.757131Z",
     "start_time": "2024-12-22T15:58:57.750606Z"
    }
   },
   "outputs": [
    {
     "data": {
      "text/plain": [
       "array([[1.        , 0.        , 1.        , ..., 0.        , 0.        ,\n",
       "        0.        ],\n",
       "       [1.        , 0.        , 1.        , ..., 0.        , 0.        ,\n",
       "        0.        ],\n",
       "       [1.        , 0.        , 1.        , ..., 0.        , 0.        ,\n",
       "        0.        ],\n",
       "       ...,\n",
       "       [0.3876573 , 0.61234266, 0.61234266, ..., 0.        , 0.        ,\n",
       "        0.        ],\n",
       "       [0.        , 0.        , 0.7864569 , ..., 0.        , 0.        ,\n",
       "        0.        ],\n",
       "       [0.        , 0.        , 1.        , ..., 0.        , 0.        ,\n",
       "        0.        ]], dtype=float32)"
      ]
     },
     "execution_count": 70,
     "metadata": {},
     "output_type": "execute_result"
    }
   ],
   "source": [
    "vectorized_x_train_smote"
   ]
  },
  {
   "cell_type": "code",
   "execution_count": 71,
   "id": "4542471f-fdd7-4e85-b587-9777a356c6bd",
   "metadata": {
    "ExecuteTime": {
     "end_time": "2024-12-22T15:59:21.701851Z",
     "start_time": "2024-12-22T15:59:21.691713Z"
    }
   },
   "outputs": [
    {
     "data": {
      "text/plain": [
       "0       2\n",
       "1       1\n",
       "2       2\n",
       "3       1\n",
       "4       0\n",
       "       ..\n",
       "6046    0\n",
       "6047    0\n",
       "6048    1\n",
       "6049    1\n",
       "6050    1\n",
       "Name: label, Length: 6051, dtype: int64"
      ]
     },
     "execution_count": 71,
     "metadata": {},
     "output_type": "execute_result"
    }
   ],
   "source": [
    "y_train_smote"
   ]
  },
  {
   "cell_type": "code",
   "execution_count": 72,
   "id": "21713f72-57ac-4807-ab9a-546d642f2c6d",
   "metadata": {
    "ExecuteTime": {
     "end_time": "2024-12-22T15:59:58.155310Z",
     "start_time": "2024-12-22T15:59:58.147906Z"
    }
   },
   "outputs": [
    {
     "data": {
      "text/plain": [
       "array([[1., 0., 1., ..., 0., 0., 0.],\n",
       "       [1., 0., 1., ..., 0., 0., 0.],\n",
       "       [0., 0., 1., ..., 0., 0., 0.],\n",
       "       ...,\n",
       "       [1., 0., 1., ..., 0., 0., 0.],\n",
       "       [0., 0., 1., ..., 0., 0., 0.],\n",
       "       [0., 0., 1., ..., 0., 0., 0.]], dtype=float32)"
      ]
     },
     "execution_count": 72,
     "metadata": {},
     "output_type": "execute_result"
    }
   ],
   "source": [
    "vectorized_x_test"
   ]
  },
  {
   "cell_type": "code",
   "execution_count": 73,
   "id": "c29893b6-08f9-408d-8090-d3e3ba311ce2",
   "metadata": {
    "ExecuteTime": {
     "end_time": "2024-12-23T05:52:48.675067Z",
     "start_time": "2024-12-23T05:52:48.601025Z"
    }
   },
   "outputs": [
    {
     "data": {
      "text/plain": [
       "4345    1\n",
       "3479    0\n",
       "6006    2\n",
       "278     0\n",
       "4398    2\n",
       "       ..\n",
       "508     2\n",
       "2669    0\n",
       "5298    2\n",
       "5270    0\n",
       "3708    2\n",
       "Name: label, Length: 1511, dtype: int64"
      ]
     },
     "execution_count": 73,
     "metadata": {},
     "output_type": "execute_result"
    }
   ],
   "source": [
    "y_test"
   ]
  },
  {
   "cell_type": "code",
   "execution_count": 74,
   "id": "b98d24f8-7a25-40e1-a828-d00ecc2da2d5",
   "metadata": {},
   "outputs": [],
   "source": [
    "## Model Training and Evaluation"
   ]
  },
  {
   "cell_type": "code",
   "execution_count": 75,
   "id": "c4516207-d196-4491-80b3-21772508bc4a",
   "metadata": {
    "ExecuteTime": {
     "end_time": "2024-12-23T05:56:35.287063Z",
     "start_time": "2024-12-23T05:56:35.269073Z"
    }
   },
   "outputs": [],
   "source": [
    "from sklearn.linear_model import LogisticRegression\n",
    "from sklearn.naive_bayes import MultinomialNB\n",
    "from sklearn.tree import DecisionTreeClassifier\n",
    "from sklearn.ensemble import RandomForestClassifier\n",
    "from sklearn.svm import SVC"
   ]
  },
  {
   "cell_type": "code",
   "execution_count": 76,
   "id": "6a0cf029-5d1a-4f90-b777-f480f48ea887",
   "metadata": {
    "ExecuteTime": {
     "end_time": "2024-12-23T06:01:57.070198Z",
     "start_time": "2024-12-23T06:01:57.053866Z"
    }
   },
   "outputs": [],
   "source": [
    "# from sklearn.metrics import accuracy_score, f1_score, precision_score, recall_score\n",
    "\n",
    "# def training_scores(y_act, y_pred):\n",
    "#     acc = round(accuracy_score(y_act, y_pred), 3)\n",
    "#     pr = round(precision_score(y_act, y_pred), 3)\n",
    "#     rec = round(recall_score(y_act, y_pred), 3)\n",
    "#     f1 = round(f1_score(y_act, y_pred), 3)\n",
    "#     print(f'Training Scores: \\n\\tAccuracy = {acc}\\n\\tPrecision = {pr}\\n\\tRecall = {rec}\\n\\tF1-Score = {f1}')\n",
    "    \n",
    "# def validation_scores(y_act, y_pred):\n",
    "#     acc = round(accuracy_score(y_act, y_pred), 3)\n",
    "#     pr = round(precision_score(y_act, y_pred), 3)\n",
    "#     rec = round(recall_score(y_act, y_pred), 3)\n",
    "#     f1 = round(f1_score(y_act, y_pred), 3)\n",
    "#     print(f'Testing Scores: \\n\\tAccuracy = {acc}\\n\\tPrecision = {pr}\\n\\tRecall {rec}\\n\\tF1-Score = {f1}')"
   ]
  },
  {
   "cell_type": "code",
   "execution_count": 77,
   "id": "74b70899-8e14-4acf-85eb-fbf0f5fec2d1",
   "metadata": {},
   "outputs": [],
   "source": [
    "from sklearn.metrics import accuracy_score, f1_score, precision_score, recall_score\n",
    "\n",
    "def training_scores(y_act, y_pred):\n",
    "    acc = round(accuracy_score(y_act, y_pred), 3)\n",
    "    pr = round(precision_score(y_act, y_pred, average='weighted'), 3)\n",
    "    rec = round(recall_score(y_act, y_pred, average='weighted'), 3)\n",
    "    f1 = round(f1_score(y_act, y_pred, average='weighted'), 3)\n",
    "    print(f'Training Scores: \\n\\tAccuracy = {acc}\\n\\tPrecision = {pr}\\n\\tRecall = {rec}\\n\\tF1-Score = {f1}')\n",
    "    \n",
    "def validation_scores(y_act, y_pred):\n",
    "    acc = round(accuracy_score(y_act, y_pred), 3)\n",
    "    pr = round(precision_score(y_act, y_pred, average='weighted'), 3)\n",
    "    rec = round(recall_score(y_act, y_pred, average='weighted'), 3)\n",
    "    f1 = round(f1_score(y_act, y_pred, average='weighted'), 3)\n",
    "    print(f'Testing Scores: \\n\\tAccuracy = {acc}\\n\\tPrecision = {pr}\\n\\tRecall = {rec}\\n\\tF1-Score = {f1}')\n"
   ]
  },
  {
   "cell_type": "code",
   "execution_count": 78,
   "id": "9ac876e4-e6a7-4934-9f16-9920645fb7f4",
   "metadata": {},
   "outputs": [],
   "source": [
    "### Logistic Regression"
   ]
  },
  {
   "cell_type": "code",
   "execution_count": 79,
   "id": "e02ffcea-8353-47bf-beb4-1c5a3455f963",
   "metadata": {},
   "outputs": [],
   "source": [
    "# lr = LogisticRegression()\n",
    "# lr.fit(vectorized_x_train_smote,y_train_smote)"
   ]
  },
  {
   "cell_type": "code",
   "execution_count": 80,
   "id": "d6aa103a-567d-437f-8743-dcac543421f7",
   "metadata": {},
   "outputs": [],
   "source": [
    "# y_train_pred = lr.predict(vectorized_x_train_smote)"
   ]
  },
  {
   "cell_type": "code",
   "execution_count": 81,
   "id": "43d74385-1031-4a1a-9f65-8f0cd9f13617",
   "metadata": {},
   "outputs": [],
   "source": [
    "# y_train_pred"
   ]
  },
  {
   "cell_type": "code",
   "execution_count": 82,
   "id": "cbfa46e8-22d5-433b-a0f7-3dd4c50f56c6",
   "metadata": {},
   "outputs": [],
   "source": [
    "# y_train_smote"
   ]
  },
  {
   "cell_type": "code",
   "execution_count": 83,
   "id": "af838ffa-e07a-4bd0-b86a-5e9ca3af6619",
   "metadata": {},
   "outputs": [],
   "source": [
    "# training_scores(y_train_smote,y_train_pred)"
   ]
  },
  {
   "cell_type": "code",
   "execution_count": 84,
   "id": "8ae8ac87-0d67-4e60-a3e2-da1b9ca68f00",
   "metadata": {},
   "outputs": [],
   "source": [
    "# y_test_pred = lr.predict(vectorized_x_test)"
   ]
  },
  {
   "cell_type": "code",
   "execution_count": 85,
   "id": "8174ac9e-6a8b-48d8-a1fa-874d4f964d8d",
   "metadata": {},
   "outputs": [],
   "source": [
    "# y_test_pred"
   ]
  },
  {
   "cell_type": "code",
   "execution_count": 86,
   "id": "16ee2f31-76e3-4cd5-b190-09930cb1491c",
   "metadata": {},
   "outputs": [],
   "source": [
    "# y_test"
   ]
  },
  {
   "cell_type": "code",
   "execution_count": 87,
   "id": "e75a41d0-e23a-4ffe-9e6d-09c3a93fb6fa",
   "metadata": {},
   "outputs": [],
   "source": [
    "# validation_scores(y_test,y_test_pred)"
   ]
  },
  {
   "cell_type": "code",
   "execution_count": 88,
   "id": "2c3444e5-9093-47ce-b61e-4906bbecde65",
   "metadata": {},
   "outputs": [],
   "source": [
    "   ## Test LogisticRegression"
   ]
  },
  {
   "cell_type": "code",
   "execution_count": 89,
   "id": "2601f3e3-d09e-4f86-8a80-48768f5866e4",
   "metadata": {},
   "outputs": [
    {
     "name": "stdout",
     "output_type": "stream",
     "text": [
      "Training Scores: \n",
      "\tAccuracy = 0.999\n",
      "\tPrecision = 0.999\n",
      "\tRecall = 0.999\n",
      "\tF1-Score = 0.999\n",
      "Testing Scores: \n",
      "\tAccuracy = 0.746\n",
      "\tPrecision = 0.746\n",
      "\tRecall = 0.746\n",
      "\tF1-Score = 0.746\n"
     ]
    }
   ],
   "source": [
    "lr = LogisticRegression()\n",
    "lr.fit(vectorized_x_train_smote,y_train_smote)\n",
    "\n",
    "y_train_pred = lr.predict(vectorized_x_train_smote)\n",
    "y_test_pred = lr.predict(vectorized_x_test)\n",
    "\n",
    "training_scores(y_train_smote,y_train_pred)\n",
    "validation_scores(y_test,y_test_pred)"
   ]
  },
  {
   "cell_type": "code",
   "execution_count": 90,
   "id": "a404ff8a-1cda-4ca1-b1ac-d8728244211d",
   "metadata": {},
   "outputs": [],
   "source": [
    "## Test Naive Base (MultinomialNB)"
   ]
  },
  {
   "cell_type": "code",
   "execution_count": 91,
   "id": "2fa52520-57bd-4b13-9995-995e01979c9b",
   "metadata": {},
   "outputs": [
    {
     "name": "stdout",
     "output_type": "stream",
     "text": [
      "Training Scores: \n",
      "\tAccuracy = 0.881\n",
      "\tPrecision = 0.882\n",
      "\tRecall = 0.881\n",
      "\tF1-Score = 0.881\n",
      "Testing Scores: \n",
      "\tAccuracy = 0.775\n",
      "\tPrecision = 0.775\n",
      "\tRecall = 0.775\n",
      "\tF1-Score = 0.774\n"
     ]
    }
   ],
   "source": [
    "mnb = MultinomialNB()\n",
    "mnb.fit(vectorized_x_train_smote,y_train_smote)\n",
    "\n",
    "y_train_pred = mnb.predict(vectorized_x_train_smote)\n",
    "y_test_pred = mnb.predict(vectorized_x_test)\n",
    "\n",
    "training_scores(y_train_smote,y_train_pred)\n",
    "validation_scores(y_test,y_test_pred)"
   ]
  },
  {
   "cell_type": "code",
   "execution_count": 92,
   "id": "6ce3a12f-9d49-4465-ab91-5038a11ea2f6",
   "metadata": {},
   "outputs": [],
   "source": [
    "## Test Decision Tree"
   ]
  },
  {
   "cell_type": "code",
   "execution_count": 93,
   "id": "6673ae00-271e-4a67-9cf8-2b2727d3ffd4",
   "metadata": {},
   "outputs": [
    {
     "name": "stdout",
     "output_type": "stream",
     "text": [
      "Training Scores: \n",
      "\tAccuracy = 1.0\n",
      "\tPrecision = 1.0\n",
      "\tRecall = 1.0\n",
      "\tF1-Score = 1.0\n",
      "Testing Scores: \n",
      "\tAccuracy = 0.583\n",
      "\tPrecision = 0.582\n",
      "\tRecall = 0.583\n",
      "\tF1-Score = 0.582\n"
     ]
    }
   ],
   "source": [
    "dt = DecisionTreeClassifier()\n",
    "dt.fit(vectorized_x_train_smote,y_train_smote)\n",
    "\n",
    "y_train_pred = dt.predict(vectorized_x_train_smote)\n",
    "y_test_pred = dt.predict(vectorized_x_test)\n",
    "\n",
    "training_scores(y_train_smote,y_train_pred)\n",
    "validation_scores(y_test,y_test_pred)"
   ]
  },
  {
   "cell_type": "markdown",
   "id": "5ae00f92-e666-4aa0-8654-4129fed29b7f",
   "metadata": {},
   "source": [
    "# Test Random Forest"
   ]
  },
  {
   "cell_type": "code",
   "execution_count": 94,
   "id": "dda52fc7-30b4-4761-a25a-ae714ddfebf6",
   "metadata": {},
   "outputs": [
    {
     "name": "stdout",
     "output_type": "stream",
     "text": [
      "Training Scores: \n",
      "\tAccuracy = 1.0\n",
      "\tPrecision = 1.0\n",
      "\tRecall = 1.0\n",
      "\tF1-Score = 1.0\n",
      "Testing Scores: \n",
      "\tAccuracy = 0.726\n",
      "\tPrecision = 0.725\n",
      "\tRecall = 0.726\n",
      "\tF1-Score = 0.724\n"
     ]
    }
   ],
   "source": [
    "rf = RandomForestClassifier()\n",
    "rf.fit(vectorized_x_train_smote,y_train_smote)\n",
    "\n",
    "y_train_pred = rf.predict(vectorized_x_train_smote)\n",
    "y_test_pred = rf.predict(vectorized_x_test)\n",
    "\n",
    "training_scores(y_train_smote,y_train_pred)\n",
    "validation_scores(y_test,y_test_pred)"
   ]
  },
  {
   "cell_type": "markdown",
   "id": "f55dad65-831b-460f-b739-0d9cb4a55669",
   "metadata": {},
   "source": [
    "# Test SVC"
   ]
  },
  {
   "cell_type": "code",
   "execution_count": 95,
   "id": "4743aeee-a8c8-4d15-b916-5180ec7a2153",
   "metadata": {},
   "outputs": [
    {
     "name": "stdout",
     "output_type": "stream",
     "text": [
      "Training Scores: \n",
      "\tAccuracy = 0.959\n",
      "\tPrecision = 0.959\n",
      "\tRecall = 0.959\n",
      "\tF1-Score = 0.959\n",
      "Testing Scores: \n",
      "\tAccuracy = 0.776\n",
      "\tPrecision = 0.778\n",
      "\tRecall = 0.776\n",
      "\tF1-Score = 0.777\n"
     ]
    }
   ],
   "source": [
    "svc = SVC()\n",
    "svc.fit(vectorized_x_train_smote,y_train_smote)\n",
    "\n",
    "y_train_pred = svc.predict(vectorized_x_train_smote)\n",
    "y_test_pred = svc.predict(vectorized_x_test)\n",
    "\n",
    "training_scores(y_train_smote,y_train_pred)\n",
    "validation_scores(y_test,y_test_pred)"
   ]
  },
  {
   "cell_type": "code",
   "execution_count": 96,
   "id": "c919c183-424f-4612-a26a-45f1eb0fc98e",
   "metadata": {},
   "outputs": [],
   "source": [
    "# import pickle\n",
    "# with open('../static/model/model_svc.pickle','wb') as file:\n",
    "#     pickle.dump(svc,file)"
   ]
  },
  {
   "cell_type": "code",
   "execution_count": null,
   "id": "c8808aa5-b9dd-4825-abbe-564875c04428",
   "metadata": {},
   "outputs": [],
   "source": []
  },
  {
   "cell_type": "code",
   "execution_count": null,
   "id": "886577cc-bf21-496e-8d27-b38e240299f0",
   "metadata": {},
   "outputs": [],
   "source": []
  }
 ],
 "metadata": {
  "kernelspec": {
   "display_name": "Python 3 (ipykernel)",
   "language": "python",
   "name": "python3"
  },
  "language_info": {
   "codemirror_mode": {
    "name": "ipython",
    "version": 3
   },
   "file_extension": ".py",
   "mimetype": "text/x-python",
   "name": "python",
   "nbconvert_exporter": "python",
   "pygments_lexer": "ipython3",
   "version": "3.11.4"
  }
 },
 "nbformat": 4,
 "nbformat_minor": 5
}
